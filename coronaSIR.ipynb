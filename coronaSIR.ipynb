{
 "cells": [
  {
   "cell_type": "code",
   "execution_count": 391,
   "metadata": {},
   "outputs": [],
   "source": [
    "import numpy as np\n",
    "import tqdm\n",
    "import matplotlib.pyplot as plt"
   ]
  },
  {
   "cell_type": "code",
   "execution_count": 392,
   "metadata": {},
   "outputs": [],
   "source": [
    "OD = np.random.randint(100,10000, (10, 10, 9,2))\n",
    "thresh = 200"
   ]
  },
  {
   "cell_type": "markdown",
   "metadata": {},
   "source": [
    "## Building the data"
   ]
  },
  {
   "cell_type": "markdown",
   "metadata": {},
   "source": [
    "Let's use the following conventions:\n",
    "age groups (as in paper):\n",
    "    - 0 to 9\n",
    "    - 10 to 19\n",
    "    - 20 to 29\n",
    "    - 30 to 39\n",
    "    - 40 to 49\n",
    "    - 50 to 59\n",
    "    - 60 to 69\n",
    "    - 70 to 79\n",
    "    - 80+\n",
    "and further compartementalize according to sex.\n",
    "\n",
    "All rates are therefore given as 2D arrays of shape (9, 2) where the first axis is the age group and the second the gender."
   ]
  },
  {
   "cell_type": "code",
   "execution_count": 393,
   "metadata": {},
   "outputs": [],
   "source": [
    "OD = OD.sum(axis=3).sum(axis=2)"
   ]
  },
  {
   "cell_type": "code",
   "execution_count": 394,
   "metadata": {},
   "outputs": [],
   "source": [
    "def split_groups(N):\n",
    "    split_points = np.random.choice(range(1,N), 9-1, replace = False)\n",
    "    split_points.sort()\n",
    "    age_groups = [split_points[0]]+[split_points[n]-split_points[n-1] for n in range(1,len(split_points))] + [N-split_points[-1]]\n",
    "    groups = [[np.random.choice(range(g), 1), g] for g in age_groups]\n",
    "    groups = [[int(a[0]),int(a[1]-a[0])] for a in groups]\n",
    "    return np.array(groups)"
   ]
  },
  {
   "cell_type": "code",
   "execution_count": 395,
   "metadata": {
    "scrolled": true
   },
   "outputs": [
    {
     "name": "stderr",
     "output_type": "stream",
     "text": [
      "<ipython-input-395-862585e25305>:5: TqdmDeprecationWarning: This function will be removed in tqdm==5.0.0\n",
      "Please use `tqdm.notebook.tqdm` instead of `tqdm.tqdm_notebook`\n",
      "  for i in tqdm.tqdm_notebook(range(locs_len)):\n"
     ]
    },
    {
     "data": {
      "application/vnd.jupyter.widget-view+json": {
       "model_id": "6b5880c359a6466899281c7fd3c123be",
       "version_major": 2,
       "version_minor": 0
      },
      "text/plain": [
       "HBox(children=(FloatProgress(value=0.0, max=10.0), HTML(value='')))"
      ]
     },
     "metadata": {},
     "output_type": "display_data"
    },
    {
     "name": "stdout",
     "output_type": "stream",
     "text": [
      "\n"
     ]
    }
   ],
   "source": [
    "# initialize the population vector from the origin-destination flow matrix\n",
    "N_k = np.abs(np.diagonal(OD) + OD.sum(axis=0) - OD.sum(axis=1))\n",
    "locs_len = len(N_k)                      # number of locations\n",
    "SIR = np.zeros(shape=(locs_len, 9, 2, 3)) # make a numpy array with 3 columns for keeping track of the S, I, R groups\n",
    "for i in tqdm.tqdm_notebook(range(locs_len)):\n",
    "    SIR[i,:,:,0] = split_groups(N_k[i])                      # initialize the S group with the respective populations"
   ]
  },
  {
   "cell_type": "code",
   "execution_count": 396,
   "metadata": {},
   "outputs": [],
   "source": [
    "first_infections = np.where(SIR[:,:,:, 0]<=thresh, SIR[:,:,:, 0]//20, 0)   # for demo purposes, randomly introduce infections\n",
    "SIR[:,:,:, 0] = SIR[:,:,:, 0] - first_infections\n",
    "SIR[:,:,:, 1] = SIR[:,:,:, 1] + first_infections                           # move infections to the I group"
   ]
  },
  {
   "cell_type": "code",
   "execution_count": 390,
   "metadata": {},
   "outputs": [],
   "source": [
    "  N_k = np.abs(np.diagonal(OD) + OD.sum(axis=0) - OD.sum(axis=1))\n",
    "  locs_len = len(N_k)                 # number of locations\n",
    "  SIR = np.zeros(shape=(locs_len, 3)) # make a numpy array with 3 columns for keeping track of the S, I, R groups\n",
    "  SIR[:,0] = N_k                      # initialize the S group with the respective populations\n",
    "  \n",
    "  first_infections = np.where(SIR[:, 0]<=thresh, SIR[:, 0]//20, 0)   # for demo purposes, randomly introduce infections\n",
    "  SIR[:, 0] = SIR[:, 0] - first_infections\n",
    "  SIR[:, 1] = SIR[:, 1] + first_infections                           # move infections to the I group\n",
    "  \n",
    "  # row normalize the SIR matrix for keeping track of group proportions\n",
    "  row_sums = SIR.sum(axis=1)\n",
    "  SIR_n = SIR / row_sums[:, np.newaxis]"
   ]
  },
  {
   "cell_type": "code",
   "execution_count": 441,
   "metadata": {},
   "outputs": [],
   "source": [
    "# row normalize the SIR matrix for keeping track of group proportions\n",
    "row_sums = SIR.sum(axis=3).sum(axis=2).sum(axis=1)\n",
    "SIR_n = SIR / row_sums[:, np.newaxis, np.newaxis, np.newaxis]"
   ]
  },
  {
   "cell_type": "markdown",
   "metadata": {},
   "source": [
    "### initialize parameters"
   ]
  },
  {
   "cell_type": "code",
   "execution_count": 442,
   "metadata": {},
   "outputs": [],
   "source": [
    "beta = np.full((9,2), 0.16)\n",
    "gamma = np.full((9,2), 0.04)\n",
    "public_trans = 0.5         # alpha\n",
    "R0 = beta/gamma\n",
    "beta_vec = np.random.gamma(beta, 1/gamma, (locs_len, 9, 2))\n",
    "gamma_vec = np.full((locs_len, 9, 2), gamma)\n",
    "public_trans_vec = np.full((locs_len, 9, 2), public_trans)"
   ]
  },
  {
   "cell_type": "code",
   "execution_count": 443,
   "metadata": {},
   "outputs": [],
   "source": [
    "# make copy of the SIR matrices \n",
    "SIR_sim = SIR.copy()\n",
    "SIR_nsim = SIR_n.copy()"
   ]
  },
  {
   "cell_type": "code",
   "execution_count": 450,
   "metadata": {},
   "outputs": [
    {
     "data": {
      "text/plain": [
       "(10, 10, 9, 2)"
      ]
     },
     "execution_count": 450,
     "metadata": {},
     "output_type": "execute_result"
    }
   ],
   "source": [
    "infected_mat.shape"
   ]
  },
  {
   "cell_type": "code",
   "execution_count": 461,
   "metadata": {},
   "outputs": [
    {
     "data": {
      "text/plain": [
       "(10, 10, 9, 2)"
      ]
     },
     "execution_count": 461,
     "metadata": {},
     "output_type": "execute_result"
    }
   ],
   "source": [
    "OD_infected.shape"
   ]
  },
  {
   "cell_type": "code",
   "execution_count": 452,
   "metadata": {},
   "outputs": [
    {
     "data": {
      "text/plain": [
       "(10, 10)"
      ]
     },
     "execution_count": 452,
     "metadata": {},
     "output_type": "execute_result"
    }
   ],
   "source": [
    "OD.shape"
   ]
  },
  {
   "cell_type": "code",
   "execution_count": 462,
   "metadata": {},
   "outputs": [
    {
     "data": {
      "text/plain": [
       "(10, 10, 2)"
      ]
     },
     "execution_count": 462,
     "metadata": {},
     "output_type": "execute_result"
    }
   ],
   "source": [
    "inflow_infected.shape"
   ]
  },
  {
   "cell_type": "code",
   "execution_count": 464,
   "metadata": {},
   "outputs": [
    {
     "name": "stdout",
     "output_type": "stream",
     "text": [
      "True\n"
     ]
    },
    {
     "name": "stderr",
     "output_type": "stream",
     "text": [
      "<ipython-input-464-1116e37d0443>:6: TqdmDeprecationWarning: This function will be removed in tqdm==5.0.0\n",
      "Please use `tqdm.notebook.tqdm` instead of `tqdm.tqdm_notebook`\n",
      "  for time_step in tqdm.tqdm_notebook(range(100)):\n"
     ]
    },
    {
     "data": {
      "application/vnd.jupyter.widget-view+json": {
       "model_id": "79394d20f4394f34bf888de5bbb88f3f",
       "version_major": 2,
       "version_minor": 0
      },
      "text/plain": [
       "HBox(children=(FloatProgress(value=0.0), HTML(value='')))"
      ]
     },
     "metadata": {},
     "output_type": "display_data"
    },
    {
     "ename": "AttributeError",
     "evalue": "module 'numpy' has no attribute 'tensor'",
     "output_type": "error",
     "traceback": [
      "\u001b[0;31m---------------------------------------------------------------------------\u001b[0m",
      "\u001b[0;31mAttributeError\u001b[0m                            Traceback (most recent call last)",
      "\u001b[0;32m<ipython-input-464-1116e37d0443>\u001b[0m in \u001b[0;36m<module>\u001b[0;34m\u001b[0m\n\u001b[1;32m      8\u001b[0m   \u001b[0mOD_infected\u001b[0m \u001b[0;34m=\u001b[0m \u001b[0mnp\u001b[0m\u001b[0;34m.\u001b[0m\u001b[0mround\u001b[0m\u001b[0;34m(\u001b[0m\u001b[0mOD\u001b[0m\u001b[0;34m[\u001b[0m\u001b[0;34m:\u001b[0m\u001b[0;34m,\u001b[0m\u001b[0;34m:\u001b[0m\u001b[0;34m,\u001b[0m\u001b[0mnp\u001b[0m\u001b[0;34m.\u001b[0m\u001b[0mnewaxis\u001b[0m\u001b[0;34m,\u001b[0m \u001b[0mnp\u001b[0m\u001b[0;34m.\u001b[0m\u001b[0mnewaxis\u001b[0m\u001b[0;34m]\u001b[0m\u001b[0;34m*\u001b[0m\u001b[0minfected_mat\u001b[0m\u001b[0;34m)\u001b[0m\u001b[0;34m\u001b[0m\u001b[0;34m\u001b[0m\u001b[0m\n\u001b[1;32m      9\u001b[0m   \u001b[0minflow_infected\u001b[0m \u001b[0;34m=\u001b[0m \u001b[0mOD_infected\u001b[0m\u001b[0;34m.\u001b[0m\u001b[0msum\u001b[0m\u001b[0;34m(\u001b[0m\u001b[0maxis\u001b[0m\u001b[0;34m=\u001b[0m\u001b[0;36m1\u001b[0m\u001b[0;34m)\u001b[0m\u001b[0;34m\u001b[0m\u001b[0;34m\u001b[0m\u001b[0m\n\u001b[0;32m---> 10\u001b[0;31m   \u001b[0minflow_infected\u001b[0m \u001b[0;34m=\u001b[0m \u001b[0mnp\u001b[0m\u001b[0;34m.\u001b[0m\u001b[0mround\u001b[0m\u001b[0;34m(\u001b[0m\u001b[0mnp\u001b[0m\u001b[0;34m.\u001b[0m\u001b[0mtensor\u001b[0m\u001b[0;34m(\u001b[0m\u001b[0minflow_infected\u001b[0m\u001b[0;34m,\u001b[0m\u001b[0mpublic_trans_vec\u001b[0m\u001b[0;34m)\u001b[0m\u001b[0;34m)\u001b[0m\u001b[0;34m\u001b[0m\u001b[0;34m\u001b[0m\u001b[0m\n\u001b[0m\u001b[1;32m     11\u001b[0m   \u001b[0mprint\u001b[0m\u001b[0;34m(\u001b[0m\u001b[0;34m'total infected inflow: '\u001b[0m\u001b[0;34m,\u001b[0m \u001b[0minflow_infected\u001b[0m\u001b[0;34m.\u001b[0m\u001b[0msum\u001b[0m\u001b[0;34m(\u001b[0m\u001b[0;34m)\u001b[0m\u001b[0;34m)\u001b[0m\u001b[0;34m\u001b[0m\u001b[0;34m\u001b[0m\u001b[0m\n\u001b[1;32m     12\u001b[0m   \u001b[0mnew_infect\u001b[0m \u001b[0;34m=\u001b[0m \u001b[0mbeta_vec\u001b[0m\u001b[0;34m*\u001b[0m\u001b[0mSIR_sim\u001b[0m\u001b[0;34m[\u001b[0m\u001b[0;34m:\u001b[0m\u001b[0;34m,\u001b[0m \u001b[0;36m0\u001b[0m\u001b[0;34m]\u001b[0m\u001b[0;34m*\u001b[0m\u001b[0minflow_infected\u001b[0m\u001b[0;34m/\u001b[0m\u001b[0;34m(\u001b[0m\u001b[0mN_k\u001b[0m \u001b[0;34m+\u001b[0m \u001b[0mOD\u001b[0m\u001b[0;34m.\u001b[0m\u001b[0msum\u001b[0m\u001b[0;34m(\u001b[0m\u001b[0maxis\u001b[0m\u001b[0;34m=\u001b[0m\u001b[0;36m0\u001b[0m\u001b[0;34m)\u001b[0m\u001b[0;34m)\u001b[0m\u001b[0;34m\u001b[0m\u001b[0;34m\u001b[0m\u001b[0m\n",
      "\u001b[0;32m~/anaconda3/envs/wirvsvirus/lib/python3.8/site-packages/numpy/__init__.py\u001b[0m in \u001b[0;36m__getattr__\u001b[0;34m(attr)\u001b[0m\n\u001b[1;32m    217\u001b[0m                 \u001b[0;32mreturn\u001b[0m \u001b[0mTester\u001b[0m\u001b[0;34m\u001b[0m\u001b[0;34m\u001b[0m\u001b[0m\n\u001b[1;32m    218\u001b[0m             \u001b[0;32melse\u001b[0m\u001b[0;34m:\u001b[0m\u001b[0;34m\u001b[0m\u001b[0;34m\u001b[0m\u001b[0m\n\u001b[0;32m--> 219\u001b[0;31m                 raise AttributeError(\"module {!r} has no attribute \"\n\u001b[0m\u001b[1;32m    220\u001b[0m                                      \"{!r}\".format(__name__, attr))\n\u001b[1;32m    221\u001b[0m \u001b[0;34m\u001b[0m\u001b[0m\n",
      "\u001b[0;31mAttributeError\u001b[0m: module 'numpy' has no attribute 'tensor'"
     ]
    }
   ],
   "source": [
    "# run model\n",
    "print(SIR_sim.sum(axis=0).sum() == N_k.sum())\n",
    "infected_pop_norm = []\n",
    "susceptible_pop_norm = []\n",
    "recovered_pop_norm = []\n",
    "for time_step in tqdm.tqdm_notebook(range(100)):\n",
    "  infected_mat = np.array([SIR_nsim[:,:,:,1],]*locs_len)#.transpose()\n",
    "  OD_infected = np.round(OD[:,:,np.newaxis, np.newaxis]*infected_mat)\n",
    "  inflow_infected = OD_infected.sum(axis=1)\n",
    "  inflow_infected = np.round((inflow_infected,public_trans_vec))\n",
    "  print('total infected inflow: ', inflow_infected.sum())\n",
    "  new_infect = beta_vec*SIR_sim[:, 0]*inflow_infected/(N_k + OD.sum(axis=0))\n",
    "  new_recovered = gamma_vec*SIR_sim[:, 1]\n",
    "  new_infect = np.where(new_infect>SIR_sim[:, 0], SIR_sim[:, 0], new_infect)\n",
    "  SIR_sim[:, 0] = SIR_sim[:, 0] - new_infect\n",
    "  SIR_sim[:, 1] = SIR_sim[:, 1] + new_infect - new_recovered\n",
    "  SIR_sim[:, 2] = SIR_sim[:, 2] + new_recovered\n",
    "  SIR_sim = np.where(SIR_sim<0,0,SIR_sim)\n",
    "  # recompute the normalized SIR matrix\n",
    "  row_sums = SIR_sim.sum(axis=1)\n",
    "  SIR_nsim = SIR_sim / row_sums[:, np.newaxis]\n",
    "  S = SIR_sim[:,0].sum()/N_k.sum()\n",
    "  I = SIR_sim[:,1].sum()/N_k.sum()\n",
    "  R = SIR_sim[:,2].sum()/N_k.sum()\n",
    "  print(S, I, R, (S+I+R)*N_k.sum(), N_k.sum())\n",
    "  print('\\n')\n",
    "  infected_pop_norm.append(I)\n",
    "  susceptible_pop_norm.append(S)\n",
    "  recovered_pop_norm.append(R)"
   ]
  },
  {
   "cell_type": "code",
   "execution_count": 413,
   "metadata": {},
   "outputs": [
    {
     "data": {
      "text/plain": [
       "(10, 9, 2)"
      ]
     },
     "execution_count": 413,
     "metadata": {},
     "output_type": "execute_result"
    }
   ],
   "source": [
    "inflow_infected.T.shape"
   ]
  },
  {
   "cell_type": "code",
   "execution_count": 265,
   "metadata": {},
   "outputs": [
    {
     "data": {
      "text/plain": [
       "<matplotlib.legend.Legend at 0x129836d90>"
      ]
     },
     "execution_count": 265,
     "metadata": {},
     "output_type": "execute_result"
    },
    {
     "name": "stdout",
     "output_type": "stream",
     "text": [
      "\n"
     ]
    },
    {
     "data": {
      "image/png": "[encoded data removed]",
      "text/plain": [
       "<Figure size 432x288 with 1 Axes>"
      ]
     },
     "metadata": {
      "needs_background": "light"
     },
     "output_type": "display_data"
    }
   ],
   "source": [
    "plt.plot(susceptible_pop_norm, label='S')\n",
    "plt.plot(infected_pop_norm, label='I')\n",
    "plt.plot(recovered_pop_norm, label='R')\n",
    "plt.legend()"
   ]
  },
  {
   "cell_type": "code",
   "execution_count": null,
   "metadata": {},
   "outputs": [],
   "source": []
  },
  {
   "cell_type": "code",
   "execution_count": null,
   "metadata": {},
   "outputs": [],
   "source": []
  }
 ],
 "metadata": {
  "kernelspec": {
   "display_name": "Python 3",
   "language": "python",
   "name": "python3"
  },
  "language_info": {
   "codemirror_mode": {
    "name": "ipython",
    "version": 3
   },
   "file_extension": ".py",
   "mimetype": "text/x-python",
   "name": "python",
   "nbconvert_exporter": "python",
   "pygments_lexer": "ipython3",
   "version": "3.8.1"
  }
 },
 "nbformat": 4,
 "nbformat_minor": 4
}
