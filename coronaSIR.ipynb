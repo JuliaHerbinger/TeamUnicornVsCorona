{
 "cells": [
  {
   "cell_type": "code",
   "execution_count": 391,
   "metadata": {},
   "outputs": [],
   "source": [
    "import numpy as np\n",
    "import tqdm\n",
    "import matplotlib.pyplot as plt"
   ]
  },
  {
   "cell_type": "code",
   "execution_count": 392,
   "metadata": {},
   "outputs": [],
   "source": [
    "OD = np.random.randint(100,10000, (10, 10, 9,2))\n",
    "thresh = 200"
   ]
  },
  {
   "cell_type": "markdown",
   "metadata": {},
   "source": [
    "## Building the data"
   ]
  },
  {
   "cell_type": "markdown",
   "metadata": {},
   "source": [
    "Let's use the following conventions:\n",
    "age groups (as in paper):\n",
    "    - 0 to 9\n",
    "    - 10 to 19\n",
    "    - 20 to 29\n",
    "    - 30 to 39\n",
    "    - 40 to 49\n",
    "    - 50 to 59\n",
    "    - 60 to 69\n",
    "    - 70 to 79\n",
    "    - 80+\n",
    "and further compartementalize according to sex.\n",
    "\n",
    "All rates are therefore given as 2D arrays of shape (9, 2) where the first axis is the age group and the second the gender."
   ]
  },
  {
   "cell_type": "code",
   "execution_count": 393,
   "metadata": {},
   "outputs": [],
   "source": [
    "OD = OD.sum(axis=3).sum(axis=2)"
   ]
  },
  {
   "cell_type": "code",
   "execution_count": 394,
   "metadata": {},
   "outputs": [],
   "source": [
    "def split_groups(N):\n",
    "    split_points = np.random.choice(range(1,N), 9-1, replace = False)\n",
    "    split_points.sort()\n",
    "    age_groups = [split_points[0]]+[split_points[n]-split_points[n-1] for n in range(1,len(split_points))] + [N-split_points[-1]]\n",
    "    groups = [[np.random.choice(range(g), 1), g] for g in age_groups]\n",
    "    groups = [[int(a[0]),int(a[1]-a[0])] for a in groups]\n",
    "    return np.array(groups)"
   ]
  },
  {
   "cell_type": "code",
   "execution_count": 395,
   "metadata": {
    "scrolled": true
   },
   "outputs": [
    {
     "name": "stderr",
     "output_type": "stream",
     "text": [
      "<ipython-input-395-862585e25305>:5: TqdmDeprecationWarning: This function will be removed in tqdm==5.0.0\n",
      "Please use `tqdm.notebook.tqdm` instead of `tqdm.tqdm_notebook`\n",
      "  for i in tqdm.tqdm_notebook(range(locs_len)):\n"
     ]
    },
    {
     "data": {
      "application/vnd.jupyter.widget-view+json": {
       "model_id": "6b5880c359a6466899281c7fd3c123be",
       "version_major": 2,
       "version_minor": 0
      },
      "text/plain": [
       "HBox(children=(FloatProgress(value=0.0, max=10.0), HTML(value='')))"
      ]
     },
     "metadata": {},
     "output_type": "display_data"
    },
    {
     "name": "stdout",
     "output_type": "stream",
     "text": [
      "\n"
     ]
    }
   ],
   "source": [
    "# initialize the population vector from the origin-destination flow matrix\n",
    "N_k = np.abs(np.diagonal(OD) + OD.sum(axis=0) - OD.sum(axis=1))\n",
    "locs_len = len(N_k)                      # number of locations\n",
    "SIR = np.zeros(shape=(locs_len, 9, 2, 3)) # make a numpy array with 3 columns for keeping track of the S, I, R groups\n",
    "for i in tqdm.tqdm_notebook(range(locs_len)):\n",
    "    SIR[i,:,:,0] = split_groups(N_k[i])                      # initialize the S group with the respective populations"
   ]
  },
  {
   "cell_type": "code",
   "execution_count": 396,
   "metadata": {},
   "outputs": [],
   "source": [
    "first_infections = np.where(SIR[:,:,:, 0]<=thresh, SIR[:,:,:, 0]//20, 0)   # for demo purposes, randomly introduce infections\n",
    "SIR[:,:,:, 0] = SIR[:,:,:, 0] - first_infections\n",
    "SIR[:,:,:, 1] = SIR[:,:,:, 1] + first_infections                           # move infections to the I group"
   ]
  },
  {
   "cell_type": "code",
   "execution_count": 390,
   "metadata": {},
   "outputs": [],
   "source": [
    "  N_k = np.abs(np.diagonal(OD) + OD.sum(axis=0) - OD.sum(axis=1))\n",
    "  locs_len = len(N_k)                 # number of locations\n",
    "  SIR = np.zeros(shape=(locs_len, 3)) # make a numpy array with 3 columns for keeping track of the S, I, R groups\n",
    "  SIR[:,0] = N_k                      # initialize the S group with the respective populations\n",
    "  \n",
    "  first_infections = np.where(SIR[:, 0]<=thresh, SIR[:, 0]//20, 0)   # for demo purposes, randomly introduce infections\n",
    "  SIR[:, 0] = SIR[:, 0] - first_infections\n",
    "  SIR[:, 1] = SIR[:, 1] + first_infections                           # move infections to the I group\n",
    "  \n",
    "  # row normalize the SIR matrix for keeping track of group proportions\n",
    "  row_sums = SIR.sum(axis=1)\n",
    "  SIR_n = SIR / row_sums[:, np.newaxis]"
   ]
  },
  {
   "cell_type": "code",
   "execution_count": 441,
   "metadata": {},
   "outputs": [],
   "source": [
    "# row normalize the SIR matrix for keeping track of group proportions\n",
    "row_sums = SIR.sum(axis=3).sum(axis=2).sum(axis=1)\n",
    "SIR_n = SIR / row_sums[:, np.newaxis, np.newaxis, np.newaxis]"
   ]
  },
  {
   "cell_type": "markdown",
   "metadata": {},
   "source": [
    "### initialize parameters"
   ]
  },
  {
   "cell_type": "code",
   "execution_count": 442,
   "metadata": {},
   "outputs": [],
   "source": [
    "beta = np.full((9,2), 0.16)\n",
    "gamma = np.full((9,2), 0.04)\n",
    "public_trans = 0.5         # alpha\n",
    "R0 = beta/gamma\n",
    "beta_vec = np.random.gamma(beta, 1/gamma, (locs_len, 9, 2))\n",
    "gamma_vec = np.full((locs_len, 9, 2), gamma)\n",
    "public_trans_vec = np.full((locs_len, 9, 2), public_trans)"
   ]
  },
  {
   "cell_type": "code",
   "execution_count": 443,
   "metadata": {},
   "outputs": [],
   "source": [
    "# make copy of the SIR matrices \n",
    "SIR_sim = SIR.copy()\n",
    "SIR_nsim = SIR_n.copy()"
   ]
  },
  {
   "cell_type": "code",
   "execution_count": 450,
   "metadata": {},
   "outputs": [
    {
     "data": {
      "text/plain": [
       "(10, 10, 9, 2)"
      ]
     },
     "execution_count": 450,
     "metadata": {},
     "output_type": "execute_result"
    }
   ],
   "source": [
    "infected_mat.shape"
   ]
  },
  {
   "cell_type": "code",
   "execution_count": 461,
   "metadata": {},
   "outputs": [
    {
     "data": {
      "text/plain": [
       "(10, 10, 9, 2)"
      ]
     },
     "execution_count": 461,
     "metadata": {},
     "output_type": "execute_result"
    }
   ],
   "source": [
    "OD_infected.shape"
   ]
  },
  {
   "cell_type": "code",
   "execution_count": 452,
   "metadata": {},
   "outputs": [
    {
     "data": {
      "text/plain": [
       "(10, 10)"
      ]
     },
     "execution_count": 452,
     "metadata": {},
     "output_type": "execute_result"
    }
   ],
   "source": [
    "OD.shape"
   ]
  },
  {
   "cell_type": "code",
   "execution_count": 462,
   "metadata": {},
   "outputs": [
    {
     "data": {
      "text/plain": [
       "(10, 10, 2)"
      ]
     },
     "execution_count": 462,
     "metadata": {},
     "output_type": "execute_result"
    }
   ],
   "source": [
    "inflow_infected.shape"
   ]
  },
  {
   "cell_type": "code",
   "execution_count": 466,
   "metadata": {},
   "outputs": [
    {
     "data": {
      "text/plain": [
       "(10,)"
      ]
     },
     "execution_count": 466,
     "metadata": {},
     "output_type": "execute_result"
    }
   ],
   "source": [
    "N_k.shape"
   ]
  },
  {
   "cell_type": "code",
   "execution_count": 467,
   "metadata": {},
   "outputs": [
    {
     "data": {
      "text/plain": [
       "(10,)"
      ]
     },
     "execution_count": 467,
     "metadata": {},
     "output_type": "execute_result"
    }
   ],
   "source": [
    "OD.sum(axis=0).shape"
   ]
  },
  {
   "cell_type": "code",
   "execution_count": 468,
   "metadata": {},
   "outputs": [
    {
     "ename": "ValueError",
     "evalue": "operands could not be broadcast together with shapes (10,9,2) (10,) ",
     "output_type": "error",
     "traceback": [
      "\u001b[0;31m---------------------------------------------------------------------------\u001b[0m",
      "\u001b[0;31mValueError\u001b[0m                                Traceback (most recent call last)",
      "\u001b[0;32m<ipython-input-468-e30aa9f67784>\u001b[0m in \u001b[0;36m<module>\u001b[0;34m\u001b[0m\n\u001b[0;32m----> 1\u001b[0;31m \u001b[0minflow_infected\u001b[0m\u001b[0;34m/\u001b[0m\u001b[0;34m(\u001b[0m\u001b[0mN_k\u001b[0m \u001b[0;34m+\u001b[0m \u001b[0mOD\u001b[0m\u001b[0;34m.\u001b[0m\u001b[0msum\u001b[0m\u001b[0;34m(\u001b[0m\u001b[0maxis\u001b[0m\u001b[0;34m=\u001b[0m\u001b[0;36m0\u001b[0m\u001b[0;34m)\u001b[0m\u001b[0;34m)\u001b[0m\u001b[0;34m\u001b[0m\u001b[0;34m\u001b[0m\u001b[0m\n\u001b[0m",
      "\u001b[0;31mValueError\u001b[0m: operands could not be broadcast together with shapes (10,9,2) (10,) "
     ]
    }
   ],
   "source": [
    "inflow_infected/(N_k + OD.sum(axis=0))"
   ]
  },
  {
   "cell_type": "code",
   "execution_count": 469,
   "metadata": {},
   "outputs": [
    {
     "data": {
      "text/plain": [
       "(10, 9, 2)"
      ]
     },
     "execution_count": 469,
     "metadata": {},
     "output_type": "execute_result"
    }
   ],
   "source": [
    "beta_vec.shape"
   ]
  },
  {
   "cell_type": "code",
   "execution_count": 473,
   "metadata": {},
   "outputs": [
    {
     "data": {
      "text/plain": [
       "(10, 9, 2)"
      ]
     },
     "execution_count": 473,
     "metadata": {},
     "output_type": "execute_result"
    }
   ],
   "source": [
    "SIR_sim[:,:,:,0].shape"
   ]
  },
  {
   "cell_type": "code",
   "execution_count": 477,
   "metadata": {},
   "outputs": [
    {
     "data": {
      "text/plain": [
       "(10, 9, 2)"
      ]
     },
     "execution_count": 477,
     "metadata": {},
     "output_type": "execute_result"
    }
   ],
   "source": [
    "inflow_infected.shape"
   ]
  },
  {
   "cell_type": "code",
   "execution_count": 489,
   "metadata": {
    "scrolled": true
   },
   "outputs": [
    {
     "name": "stdout",
     "output_type": "stream",
     "text": [
      "True\n"
     ]
    },
    {
     "name": "stderr",
     "output_type": "stream",
     "text": [
      "<ipython-input-489-ec4de80fdb1e>:6: TqdmDeprecationWarning: This function will be removed in tqdm==5.0.0\n",
      "Please use `tqdm.notebook.tqdm` instead of `tqdm.tqdm_notebook`\n",
      "  for time_step in tqdm.tqdm_notebook(range(100)):\n"
     ]
    },
    {
     "data": {
      "application/vnd.jupyter.widget-view+json": {
       "model_id": "a781391d97d6428d8f346ee6e9b1545d",
       "version_major": 2,
       "version_minor": 0
      },
      "text/plain": [
       "HBox(children=(FloatProgress(value=0.0), HTML(value='')))"
      ]
     },
     "metadata": {},
     "output_type": "display_data"
    },
    {
     "name": "stdout",
     "output_type": "stream",
     "text": [
      "total infected inflow:  1545.0\n",
      "0.7321296282567383 0.00037558672234114476 0.26749478502092056 936232.0 936232\n",
      "\n",
      "\n",
      "total infected inflow:  1482.0\n",
      "0.7321295161956622 0.00036067531452353295 0.26750980848981415 936232.0 936232\n",
      "\n",
      "\n",
      "total infected inflow:  1422.0\n",
      "0.7321294082214448 0.0003463562761599458 0.2675242355023951 936231.9999999999 936232\n",
      "\n",
      "\n",
      "total infected inflow:  1365.0\n",
      "0.7321293059278794 0.0003326043186790977 0.26753808975344157 936232.0 936232\n",
      "\n",
      "\n",
      "total infected inflow:  1311.0\n",
      "0.7321292066103873 0.0003193994634239955 0.2675513939261887 936232.0 936232\n",
      "\n",
      "\n",
      "total infected inflow:  1262.0\n",
      "0.7321291136557586 0.0003067164395155653 0.26756416990472565 936231.9999999998 936232\n",
      "\n",
      "\n",
      "total infected inflow:  1212.0\n",
      "0.7321290222494191 0.00029453918827449264 0.2675764385623063 936231.9999999999 936232\n",
      "\n",
      "\n",
      "total infected inflow:  1164.0\n",
      "0.7321289339950826 0.0002828458750800564 0.26758822012983724 936232.0 936232\n",
      "\n",
      "\n",
      "total infected inflow:  1112.0\n",
      "0.7321288511123781 0.0002716149227813999 0.2675995339648405 936232.0 936232\n",
      "\n",
      "\n",
      "total infected inflow:  1069.0\n",
      "0.7321287709584788 0.00026083047976941835 0.26761039856175173 936232.0 936232\n",
      "\n",
      "\n",
      "total infected inflow:  1029.0\n",
      "0.7321286920302577 0.0002504761887997986 0.26762083178094254 936232.0 936232\n",
      "\n",
      "\n",
      "total infected inflow:  979.0\n",
      "0.7321286189996388 0.0002405301718666172 0.2676308508284945 936232.0 936232\n",
      "\n",
      "\n",
      "total infected inflow:  938.0\n",
      "0.7321285484844443 0.00023097948018642846 0.2676404720353692 936232.0 936232\n",
      "\n",
      "\n",
      "total infected inflow:  904.0\n",
      "0.7321284810568952 0.00022180772852800824 0.2676497112145766 936231.9999999998 936232\n",
      "\n",
      "\n",
      "total infected inflow:  871.0\n",
      "0.7321284152274207 0.00021300124886143283 0.2676585835237178 936232.0 936232\n",
      "\n",
      "\n",
      "total infected inflow:  829.0\n",
      "0.7321283529348407 0.00020454349148708216 0.26766710357367224 936232.0 936232\n",
      "\n",
      "\n",
      "total infected inflow:  792.0\n",
      "0.7321282931443154 0.00019642154235302215 0.2676752853133317 936232.0 936232\n",
      "\n",
      "\n",
      "total infected inflow:  759.0\n",
      "0.732128235088347 0.00018862273662700497 0.26768314217502576 936231.9999999998 936232\n",
      "\n",
      "\n",
      "total infected inflow:  724.0\n",
      "0.7321281792546936 0.00018113366081541374 0.2676906870844909 936232.0 936232\n",
      "\n",
      "\n",
      "total infected inflow:  683.0\n",
      "0.7321281272403048 0.00017394032877165118 0.2676979324309235 936232.0 936232\n",
      "\n",
      "\n",
      "total infected inflow:  659.0\n",
      "0.7321280768803698 0.0001670330755557174 0.2677048900440744 936232.0 936232\n",
      "\n",
      "\n",
      "total infected inflow:  636.0\n",
      "0.7321280294500627 0.0001603991828406696 0.26771157136709656 936232.0 936232\n",
      "\n",
      "\n",
      "total infected inflow:  617.0\n",
      "0.7321279823522603 0.00015403031332960379 0.26771798733441016 936232.0 936232\n",
      "\n",
      "\n",
      "total infected inflow:  587.0\n",
      "0.7321279369895538 0.00014791446350274895 0.26772414854694343 936232.0 936232\n",
      "\n",
      "\n",
      "total infected inflow:  563.0\n",
      "0.7321278942019264 0.00014204067259005116 0.26773006512548353 936232.0 936232\n",
      "\n",
      "\n",
      "total infected inflow:  535.0\n",
      "0.7321278546085205 0.00013639863909234632 0.26773574675238715 936232.0 936232\n",
      "\n",
      "\n",
      "total infected inflow:  511.0\n",
      "0.7321278155436646 0.00013098175838459044 0.2677412026979508 936232.0 936232\n",
      "\n",
      "\n",
      "total infected inflow:  490.0\n",
      "0.7321277790287172 0.0001257790029966042 0.26774644196828623 936232.0 936232\n",
      "\n",
      "\n",
      "total infected inflow:  480.0\n",
      "0.7321277426011709 0.00012078427042316277 0.2677514731284061 936232.0 936232\n",
      "\n",
      "\n",
      "total infected inflow:  456.0\n",
      "0.7321277075570832 0.00011598794369384986 0.267756304499223 936232.0 936232\n",
      "\n",
      "\n",
      "total infected inflow:  428.0\n",
      "0.7321276752227391 0.00011138076029018599 0.26776094401697076 936232.0 936232\n",
      "\n",
      "\n",
      "total infected inflow:  409.0\n",
      "0.7321276434336009 0.00010695731901685056 0.2677653992473823 936232.0 936232\n",
      "\n",
      "\n",
      "total infected inflow:  397.0\n",
      "0.7321276122051209 0.00010271025473607215 0.267769677540143 936232.0 936232\n",
      "\n",
      "\n",
      "total infected inflow:  386.0\n",
      "0.7321275824195965 9.86316300709859e-05 0.2677737859503325 936232.0 936232\n",
      "\n",
      "\n",
      "total infected inflow:  370.0\n",
      "0.7321275540767122 9.471470775256254e-05 0.26777773121553533 936232.0 936232\n",
      "\n",
      "\n",
      "total infected inflow:  349.0\n",
      "0.7321275267349374 9.095346121709912e-05 0.2677815198038454 936232.0 936232\n",
      "\n",
      "\n",
      "total infected inflow:  335.0\n",
      "0.7321275014976648 8.734056004096558e-05 0.26778515794229407 936231.9999999999 936232\n",
      "\n",
      "\n",
      "total infected inflow:  322.0\n",
      "0.732127477952655 8.387048264933656e-05 0.2677886515646958 936232.0 936232\n",
      "\n",
      "\n",
      "total infected inflow:  303.0\n",
      "0.7321274554160507 8.053819994749875e-05 0.2677920063840017 936231.9999999999 936232\n",
      "\n",
      "\n",
      "total infected inflow:  288.0\n",
      "0.7321274331261298 7.733896187058086e-05 0.2677952279119996 936232.0 936232\n",
      "\n",
      "\n",
      "total infected inflow:  285.0\n",
      "0.7321274108633401 7.426766618554228e-05 0.26779832147047444 936232.0 936232\n",
      "\n",
      "\n",
      "total infected inflow:  274.0\n",
      "0.7321273892500423 7.131857283588602e-05 0.2678012921771219 936232.0 936232\n",
      "\n",
      "\n",
      "total infected inflow:  258.0\n",
      "0.7321273676906581 6.848738930655731e-05 0.2678041449200353 936232.0 936232\n",
      "\n",
      "\n",
      "total infected inflow:  249.0\n",
      "0.7321273471712857 6.576841310679982e-05 0.26780688441560757 936232.0 936232\n",
      "\n",
      "\n",
      "total infected inflow:  241.0\n",
      "0.7321273268044756 6.315804339263745e-05 0.26780951515213186 936232.0 936232\n",
      "\n",
      "\n",
      "total infected inflow:  227.0\n",
      "0.732127308357016 6.065016911636242e-05 0.26781204147386756 936232.0 936232\n",
      "\n",
      "\n",
      "total infected inflow:  216.0\n",
      "0.7321272919603281 5.824055903979334e-05 0.26781446748063226 936232.0000000002 936232\n",
      "\n",
      "\n",
      "total infected inflow:  201.0\n",
      "0.7321272758517494 5.5927045256656734e-05 0.26781679710299383 936232.0 936232\n",
      "\n",
      "\n",
      "total infected inflow:  193.0\n",
      "0.7321272606017626 5.3705213433364124e-05 0.2678190341848041 936232.0 936232\n",
      "\n",
      "\n",
      "total infected inflow:  187.0\n",
      "0.7321272453965129 5.157221014570545e-05 0.26782118239334135 936232.0 936232\n",
      "\n",
      "\n",
      "total infected inflow:  174.0\n",
      "0.732127230474404 4.952424384877299e-05 0.26782324528174717 936231.9999999999 936232\n",
      "\n",
      "\n",
      "total infected inflow:  166.0\n",
      "0.7321272169312006 4.755681729818739e-05 0.2678252262515012 936232.0 936232\n",
      "\n",
      "\n",
      "total infected inflow:  155.0\n",
      "0.7321272037452161 4.566773059085537e-05 0.26782712852419305 936232.0 936232\n",
      "\n",
      "\n",
      "total infected inflow:  144.0\n",
      "0.7321271907804723 4.385398611095404e-05 0.2678289552334167 936232.0 936232\n",
      "\n",
      "\n",
      "total infected inflow:  136.0\n",
      "0.7321271791187696 4.211148836933576e-05 0.26783070939286113 936232.0 936232\n",
      "\n",
      "\n",
      "total infected inflow:  126.0\n",
      "0.7321271683125672 4.043783503683547e-05 0.2678323938523959 936231.9999999999 936232\n",
      "\n",
      "\n",
      "total infected inflow:  113.0\n",
      "0.7321271578737122 3.883076049035748e-05 0.26783401136579743 936232.0 936232\n",
      "\n",
      "\n",
      "total infected inflow:  104.0\n",
      "0.7321271476749963 3.7287728786529745e-05 0.26783556459621705 936231.9999999999 936232\n",
      "\n",
      "\n",
      "total infected inflow:  100.0\n",
      "0.7321271383332859 3.5805561345666504e-05 0.26783705610536845 936232.0 936232\n",
      "\n",
      "\n",
      "total infected inflow:  94.0\n",
      "0.7321271295131169 3.438215906078808e-05 0.2678384883278223 936232.0 936232\n",
      "\n",
      "\n",
      "total infected inflow:  92.0\n",
      "0.7321271207141452 3.301567167003944e-05 0.2678398636141847 936232.0 936232\n",
      "\n",
      "\n",
      "total infected inflow:  91.0\n",
      "0.7321271119197927 3.170383915565707e-05 0.2678411842410516 936232.0 936232\n",
      "\n",
      "\n",
      "total infected inflow:  83.0\n",
      "0.7321271033878024 3.0444217579707447e-05 0.2678424523946178 936231.9999999999 936232\n",
      "\n",
      "\n",
      "total infected inflow:  78.0\n",
      "0.7321270956440863 2.923419259277768e-05 0.26784367016332095 936232.0 936232\n",
      "\n",
      "\n",
      "total infected inflow:  74.0\n",
      "0.7321270883341136 2.807213486175499e-05 0.26784483953102467 936232.0 936232\n",
      "\n",
      "\n",
      "total infected inflow:  71.0\n",
      "0.7321270811456602 2.695643792063503e-05 0.26784596241641917 936232.0 936232\n",
      "\n",
      "\n",
      "total infected inflow:  66.0\n",
      "0.7321270739650341 2.588536102995388e-05 0.26784704067393594 936232.0 936232\n",
      "\n",
      "\n",
      "total infected inflow:  63.0\n",
      "0.7321270669200733 2.4856991549562906e-05 0.2678480760883772 936232.0 936232\n",
      "\n",
      "\n",
      "total infected inflow:  63.0\n",
      "0.7321270598751151 2.386975684583497e-05 0.2678490703680392 936232.0 936232\n",
      "\n",
      "\n",
      "total infected inflow:  60.0\n",
      "0.7321270528343315 2.2922007355350275e-05 0.267850025158313 936231.9999999999 936232\n",
      "\n",
      "\n",
      "total infected inflow:  59.0\n",
      "0.7321270458091469 2.2012152245913652e-05 0.2678509420386072 936232.0 936232\n",
      "\n",
      "\n",
      "total infected inflow:  59.0\n",
      "0.7321270387839647 2.1138691338303885e-05 0.267851822524697 936232.0 936232\n",
      "\n",
      "\n",
      "total infected inflow:  58.0\n",
      "0.7321270317684136 2.0300159235813004e-05 0.26785266807235053 936232.0 936232\n",
      "\n",
      "\n",
      "total infected inflow:  57.0\n",
      "0.7321270260533553 1.949386792457878e-05 0.26785348007871995 936231.9999999998 936232\n",
      "\n",
      "\n",
      "total infected inflow:  51.0\n",
      "0.7321270203502833 1.8719816279739855e-05 0.26785425983343697 936232.0 936232\n",
      "\n",
      "\n",
      "total infected inflow:  47.0\n",
      "0.7321270154312308 1.7975942680874356e-05 0.2678550086260882 936231.9999999998 936232\n",
      "\n",
      "\n",
      "total infected inflow:  46.0\n",
      "0.73212701051218 1.7261824024587527e-05 0.2678557276637954 936232.0 936232\n",
      "\n",
      "\n",
      "total infected inflow:  41.0\n",
      "0.7321270056858442 1.657617739931385e-05 0.26785641813675637 936232.0 936232\n",
      "\n",
      "\n",
      "total infected inflow:  39.0\n",
      "0.7321270021676934 1.5916648454031145e-05 0.2678570811838524 936231.9999999998 936232\n",
      "\n",
      "\n",
      "total infected inflow:  33.0\n",
      "0.7321269987234855 1.5283426724000254e-05 0.26785771784979057 936232.0 936232\n",
      "\n",
      "\n",
      "total infected inflow:  31.0\n",
      "0.7321269954085436 1.4675404596813781e-05 0.26785832918685953 936232.0 936232\n",
      "\n",
      "\n",
      "total infected inflow:  27.0\n",
      "0.7321269921809056 1.409161605086927e-05 0.26785891620304336 936231.9999999998 936232\n",
      "\n",
      "\n",
      "total infected inflow:  22.0\n",
      "0.7321269889865512 1.3531145763376475e-05 0.2678594798676855 936232.0 936232\n",
      "\n",
      "\n",
      "total infected inflow:  17.0\n",
      "0.7321269861027832 1.2992783700820531e-05 0.267860021113516 936232.0 936232\n",
      "\n",
      "\n",
      "total infected inflow:  15.0\n",
      "0.7321269832190278 1.2475956108186694e-05 0.26786054082486394 936232.0 936232\n",
      "\n",
      "\n",
      "total infected inflow:  13.0\n",
      "0.7321269811653703 1.1978971521331422e-05 0.2678610398631083 936231.9999999999 936232\n",
      "\n",
      "\n",
      "total infected inflow:  11.0\n",
      "0.7321269795666316 1.150141139926737e-05 0.2678615190219692 936232.0 936232\n",
      "\n",
      "\n",
      "total infected inflow:  9.0\n",
      "0.7321269782528953 1.1042668679581375e-05 0.2678619790784251 936232.0 936232\n",
      "\n",
      "\n",
      "total infected inflow:  8.0\n",
      "0.7321269769398507 1.0602274976933336e-05 0.2678624207851723 936232.0 936232\n",
      "\n",
      "\n",
      "total infected inflow:  4.0\n",
      "0.7321269769373887 1.0178186439881328e-05 0.2678628448761714 936232.0 936232\n",
      "\n",
      "\n",
      "total infected inflow:  1.0\n",
      "0.7321269769367356 9.7710596353897e-06 0.267863252003629 936232.0 936232\n",
      "\n",
      "\n",
      "total infected inflow:  1.0\n",
      "0.7321269769360825 9.380217903077731e-06 0.2678636428460144 936232.0 936232\n",
      "\n",
      "\n",
      "total infected inflow:  1.0\n",
      "0.7321269769354294 9.005009840058238e-06 0.26786401805473053 936232.0 936232\n",
      "\n",
      "\n",
      "total infected inflow:  0.0\n",
      "0.7321269769354294 8.644809446455908e-06 0.2678643782551241 936231.9999999999 936232\n",
      "\n",
      "\n",
      "total infected inflow:  0.0\n",
      "0.7321269769354294 8.299017068597673e-06 0.267864724047502 936232.0 936232\n",
      "\n",
      "\n",
      "total infected inflow:  0.0\n",
      "0.7321269769354294 7.967056385853767e-06 0.2678650560081847 936232.0 936232\n",
      "\n",
      "\n",
      "total infected inflow:  0.0\n",
      "0.7321269769354294 7.648374130419614e-06 0.2678653746904402 936232.0 936232\n",
      "\n",
      "\n",
      "total infected inflow:  0.0\n",
      "0.7321269769354294 7.342439165202831e-06 0.2678656806254054 936232.0 936232\n",
      "\n",
      "\n",
      "total infected inflow:  0.0\n",
      "0.7321269769354294 7.0487415985947165e-06 0.267865974322972 936232.0 936232\n",
      "\n",
      "\n",
      "total infected inflow:  0.0\n",
      "0.7321269769354294 6.766791934650929e-06 0.26786625627263594 936232.0 936232\n",
      "\n",
      "\n",
      "\n"
     ]
    }
   ],
   "source": [
    "# run model\n",
    "print(SIR_sim.sum(axis=0).sum() == N_k.sum())\n",
    "infected_pop_norm = []\n",
    "susceptible_pop_norm = []\n",
    "recovered_pop_norm = []\n",
    "for time_step in tqdm.tqdm_notebook(range(100)):\n",
    "  infected_mat = np.array([SIR_nsim[:,:,:,1],]*locs_len)#.transpose()\n",
    "  OD_infected = np.round(OD[:,:,np.newaxis, np.newaxis]*infected_mat)\n",
    "  inflow_infected = OD_infected.sum(axis=1)\n",
    "  inflow_infected = np.round(inflow_infected * public_trans_vec)\n",
    "  print('total infected inflow: ', inflow_infected.sum())\n",
    "  new_infect = beta_vec*SIR_sim[:,:,:, 0]*inflow_infected/(N_k + OD.sum(axis=0))[:,np.newaxis, np.newaxis]\n",
    "  new_recovered = gamma_vec*SIR_sim[:,:,:, 1]\n",
    "  new_infect = np.where(new_infect>SIR_sim[:,:,:, 0], SIR_sim[:,:,:, 0], new_infect)\n",
    "  SIR_sim[:,:,:, 0] = SIR_sim[:,:,:, 0] - new_infect\n",
    "  SIR_sim[:,:,:, 1] = SIR_sim[:,:,:, 1] + new_infect - new_recovered\n",
    "  SIR_sim[:,:,:, 2] = SIR_sim[:,:,:, 2] + new_recovered\n",
    "  SIR_sim = np.where(SIR_sim<0,0,SIR_sim)\n",
    "  # recompute the normalized SIR matrix\n",
    "  row_sums = SIR_sim.sum(axis=3).sum(axis=2).sum(axis=1)\n",
    "  SIR_nsim = SIR_sim / row_sums[:, np.newaxis, np.newaxis, np.newaxis]\n",
    "  S = SIR_sim[:,:,:,0].sum()/N_k.sum()\n",
    "  I = SIR_sim[:,:,:,1].sum()/N_k.sum()\n",
    "  R = SIR_sim[:,:,:,2].sum()/N_k.sum()\n",
    "  print(S, I, R, (S+I+R)*N_k.sum(), N_k.sum())\n",
    "  print('\\n')\n",
    "  infected_pop_norm.append(I)\n",
    "  susceptible_pop_norm.append(S)\n",
    "  recovered_pop_norm.append(R)"
   ]
  },
  {
   "cell_type": "code",
   "execution_count": 490,
   "metadata": {},
   "outputs": [
    {
     "data": {
      "text/plain": [
       "(2, 9, 10)"
      ]
     },
     "execution_count": 490,
     "metadata": {},
     "output_type": "execute_result"
    }
   ],
   "source": [
    "inflow_infected.T.shape"
   ]
  },
  {
   "cell_type": "code",
   "execution_count": 491,
   "metadata": {},
   "outputs": [
    {
     "data": {
      "text/plain": [
       "<matplotlib.legend.Legend at 0x1292d2580>"
      ]
     },
     "execution_count": 491,
     "metadata": {},
     "output_type": "execute_result"
    },
    {
     "data": {
      "image/png": "[encoded data removed]",
      "text/plain": [
       "<Figure size 432x288 with 1 Axes>"
      ]
     },
     "metadata": {
      "needs_background": "light"
     },
     "output_type": "display_data"
    }
   ],
   "source": [
    "plt.plot(susceptible_pop_norm, label='S')\n",
    "plt.plot(infected_pop_norm, label='I')\n",
    "plt.plot(recovered_pop_norm, label='R')\n",
    "plt.legend();"
   ]
  },
  {
   "cell_type": "code",
   "execution_count": null,
   "metadata": {},
   "outputs": [],
   "source": []
  },
  {
   "cell_type": "code",
   "execution_count": null,
   "metadata": {},
   "outputs": [],
   "source": []
  }
 ],
 "metadata": {
  "kernelspec": {
   "display_name": "Python 3",
   "language": "python",
   "name": "python3"
  },
  "language_info": {
   "codemirror_mode": {
    "name": "ipython",
    "version": 3
   },
   "file_extension": ".py",
   "mimetype": "text/x-python",
   "name": "python",
   "nbconvert_exporter": "python",
   "pygments_lexer": "ipython3",
   "version": "3.8.1"
  }
 },
 "nbformat": 4,
 "nbformat_minor": 4
}
