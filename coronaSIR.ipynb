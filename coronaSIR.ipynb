{
 "cells": [
  {
   "cell_type": "code",
   "execution_count": 391,
   "metadata": {},
   "outputs": [],
   "source": [
    "import numpy as np\n",
    "import tqdm\n",
    "import matplotlib.pyplot as plt"
   ]
  },
  {
   "cell_type": "code",
   "execution_count": 392,
   "metadata": {},
   "outputs": [],
   "source": [
    "OD = np.random.randint(100,10000, (10, 10, 9,2))\n",
    "thresh = 200"
   ]
  },
  {
   "cell_type": "markdown",
   "metadata": {},
   "source": [
    "## Building the data"
   ]
  },
  {
   "cell_type": "markdown",
   "metadata": {},
   "source": [
    "Let's use the following conventions:\n",
    "age groups (as in paper):\n",
    "    - 0 to 9\n",
    "    - 10 to 19\n",
    "    - 20 to 29\n",
    "    - 30 to 39\n",
    "    - 40 to 49\n",
    "    - 50 to 59\n",
    "    - 60 to 69\n",
    "    - 70 to 79\n",
    "    - 80+\n",
    "and further compartementalize according to sex.\n",
    "\n",
    "All rates are therefore given as 2D arrays of shape (9, 2) where the first axis is the age group and the second the gender."
   ]
  },
  {
   "cell_type": "code",
   "execution_count": 393,
   "metadata": {},
   "outputs": [],
   "source": [
    "OD = OD.sum(axis=3).sum(axis=2)"
   ]
  },
  {
   "cell_type": "code",
   "execution_count": 394,
   "metadata": {},
   "outputs": [],
   "source": [
    "def split_groups(N):\n",
    "    split_points = np.random.choice(range(1,N), 9-1, replace = False)\n",
    "    split_points.sort()\n",
    "    age_groups = [split_points[0]]+[split_points[n]-split_points[n-1] for n in range(1,len(split_points))] + [N-split_points[-1]]\n",
    "    groups = [[np.random.choice(range(g), 1), g] for g in age_groups]\n",
    "    groups = [[int(a[0]),int(a[1]-a[0])] for a in groups]\n",
    "    return np.array(groups)"
   ]
  },
  {
   "cell_type": "code",
   "execution_count": 395,
   "metadata": {
    "scrolled": true
   },
   "outputs": [
    {
     "name": "stderr",
     "output_type": "stream",
     "text": [
      "<ipython-input-395-862585e25305>:5: TqdmDeprecationWarning: This function will be removed in tqdm==5.0.0\n",
      "Please use `tqdm.notebook.tqdm` instead of `tqdm.tqdm_notebook`\n",
      "  for i in tqdm.tqdm_notebook(range(locs_len)):\n"
     ]
    },
    {
     "data": {
      "application/vnd.jupyter.widget-view+json": {
       "model_id": "6b5880c359a6466899281c7fd3c123be",
       "version_major": 2,
       "version_minor": 0
      },
      "text/plain": [
       "HBox(children=(FloatProgress(value=0.0, max=10.0), HTML(value='')))"
      ]
     },
     "metadata": {},
     "output_type": "display_data"
    },
    {
     "name": "stdout",
     "output_type": "stream",
     "text": [
      "\n"
     ]
    }
   ],
   "source": [
    "# initialize the population vector from the origin-destination flow matrix\n",
    "N_k = np.abs(np.diagonal(OD) + OD.sum(axis=0) - OD.sum(axis=1))\n",
    "locs_len = len(N_k)                      # number of locations\n",
    "SIR = np.zeros(shape=(locs_len, 9, 2, 3)) # make a numpy array with 3 columns for keeping track of the S, I, R groups\n",
    "for i in tqdm.tqdm_notebook(range(locs_len)):\n",
    "    SIR[i,:,:,0] = split_groups(N_k[i])                      # initialize the S group with the respective populations"
   ]
  },
  {
   "cell_type": "code",
   "execution_count": 396,
   "metadata": {},
   "outputs": [],
   "source": [
    "first_infections = np.where(SIR[:,:,:, 0]<=thresh, SIR[:,:,:, 0]//20, 0)   # for demo purposes, randomly introduce infections\n",
    "SIR[:,:,:, 0] = SIR[:,:,:, 0] - first_infections\n",
    "SIR[:,:,:, 1] = SIR[:,:,:, 1] + first_infections                           # move infections to the I group"
   ]
  },
  {
   "cell_type": "code",
   "execution_count": 390,
   "metadata": {},
   "outputs": [],
   "source": [
    "  N_k = np.abs(np.diagonal(OD) + OD.sum(axis=0) - OD.sum(axis=1))\n",
    "  locs_len = len(N_k)                 # number of locations\n",
    "  SIR = np.zeros(shape=(locs_len, 3)) # make a numpy array with 3 columns for keeping track of the S, I, R groups\n",
    "  SIR[:,0] = N_k                      # initialize the S group with the respective populations\n",
    "  \n",
    "  first_infections = np.where(SIR[:, 0]<=thresh, SIR[:, 0]//20, 0)   # for demo purposes, randomly introduce infections\n",
    "  SIR[:, 0] = SIR[:, 0] - first_infections\n",
    "  SIR[:, 1] = SIR[:, 1] + first_infections                           # move infections to the I group\n",
    "  \n",
    "  # row normalize the SIR matrix for keeping track of group proportions\n",
    "  row_sums = SIR.sum(axis=1)\n",
    "  SIR_n = SIR / row_sums[:, np.newaxis]"
   ]
  },
  {
   "cell_type": "code",
   "execution_count": 398,
   "metadata": {},
   "outputs": [
    {
     "data": {
      "text/plain": [
       "array([[[[4.4810e+03, 0.0000e+00, 0.0000e+00],\n",
       "         [5.8650e+03, 0.0000e+00, 0.0000e+00]],\n",
       "\n",
       "        [[2.4610e+03, 0.0000e+00, 0.0000e+00],\n",
       "         [5.9030e+03, 0.0000e+00, 0.0000e+00]],\n",
       "\n",
       "        [[6.9100e+03, 0.0000e+00, 0.0000e+00],\n",
       "         [2.4000e+03, 0.0000e+00, 0.0000e+00]],\n",
       "\n",
       "        [[1.1530e+03, 0.0000e+00, 0.0000e+00],\n",
       "         [5.3590e+03, 0.0000e+00, 0.0000e+00]],\n",
       "\n",
       "        [[4.2530e+03, 0.0000e+00, 0.0000e+00],\n",
       "         [3.5310e+03, 0.0000e+00, 0.0000e+00]],\n",
       "\n",
       "        [[1.8450e+04, 0.0000e+00, 0.0000e+00],\n",
       "         [4.4730e+03, 0.0000e+00, 0.0000e+00]],\n",
       "\n",
       "        [[3.2030e+03, 0.0000e+00, 0.0000e+00],\n",
       "         [2.2140e+03, 0.0000e+00, 0.0000e+00]],\n",
       "\n",
       "        [[3.4850e+03, 0.0000e+00, 0.0000e+00],\n",
       "         [1.2060e+03, 0.0000e+00, 0.0000e+00]],\n",
       "\n",
       "        [[6.5100e+02, 0.0000e+00, 0.0000e+00],\n",
       "         [3.4220e+03, 0.0000e+00, 0.0000e+00]]],\n",
       "\n",
       "\n",
       "       [[[3.8940e+03, 0.0000e+00, 0.0000e+00],\n",
       "         [1.2788e+04, 0.0000e+00, 0.0000e+00]],\n",
       "\n",
       "        [[2.3230e+03, 0.0000e+00, 0.0000e+00],\n",
       "         [7.6800e+02, 0.0000e+00, 0.0000e+00]],\n",
       "\n",
       "        [[5.3800e+02, 0.0000e+00, 0.0000e+00],\n",
       "         [1.0870e+04, 0.0000e+00, 0.0000e+00]],\n",
       "\n",
       "        [[2.0900e+02, 0.0000e+00, 0.0000e+00],\n",
       "         [2.2800e+03, 0.0000e+00, 0.0000e+00]],\n",
       "\n",
       "        [[4.4780e+03, 0.0000e+00, 0.0000e+00],\n",
       "         [6.0300e+02, 0.0000e+00, 0.0000e+00]],\n",
       "\n",
       "        [[5.6300e+02, 0.0000e+00, 0.0000e+00],\n",
       "         [1.0600e+02, 5.0000e+00, 0.0000e+00]],\n",
       "\n",
       "        [[7.9200e+02, 0.0000e+00, 0.0000e+00],\n",
       "         [1.2790e+03, 0.0000e+00, 0.0000e+00]],\n",
       "\n",
       "        [[3.6950e+03, 0.0000e+00, 0.0000e+00],\n",
       "         [1.6397e+04, 0.0000e+00, 0.0000e+00]],\n",
       "\n",
       "        [[1.5600e+02, 8.0000e+00, 0.0000e+00],\n",
       "         [2.3400e+02, 0.0000e+00, 0.0000e+00]]],\n",
       "\n",
       "\n",
       "       [[[9.4800e+02, 0.0000e+00, 0.0000e+00],\n",
       "         [3.6166e+04, 0.0000e+00, 0.0000e+00]],\n",
       "\n",
       "        [[5.2580e+03, 0.0000e+00, 0.0000e+00],\n",
       "         [2.9700e+02, 0.0000e+00, 0.0000e+00]],\n",
       "\n",
       "        [[2.4400e+02, 0.0000e+00, 0.0000e+00],\n",
       "         [1.7840e+03, 0.0000e+00, 0.0000e+00]],\n",
       "\n",
       "        [[4.7020e+03, 0.0000e+00, 0.0000e+00],\n",
       "         [9.7890e+03, 0.0000e+00, 0.0000e+00]],\n",
       "\n",
       "        [[3.2930e+03, 0.0000e+00, 0.0000e+00],\n",
       "         [3.2410e+03, 0.0000e+00, 0.0000e+00]],\n",
       "\n",
       "        [[4.9000e+02, 0.0000e+00, 0.0000e+00],\n",
       "         [5.3300e+02, 0.0000e+00, 0.0000e+00]],\n",
       "\n",
       "        [[1.6200e+02, 8.0000e+00, 0.0000e+00],\n",
       "         [1.4300e+02, 7.0000e+00, 0.0000e+00]],\n",
       "\n",
       "        [[3.1380e+03, 0.0000e+00, 0.0000e+00],\n",
       "         [4.2160e+03, 0.0000e+00, 0.0000e+00]],\n",
       "\n",
       "        [[4.2500e+02, 0.0000e+00, 0.0000e+00],\n",
       "         [4.3000e+01, 2.0000e+00, 0.0000e+00]]],\n",
       "\n",
       "\n",
       "       [[[2.5730e+03, 0.0000e+00, 0.0000e+00],\n",
       "         [5.4340e+03, 0.0000e+00, 0.0000e+00]],\n",
       "\n",
       "        [[5.2200e+02, 0.0000e+00, 0.0000e+00],\n",
       "         [4.1730e+03, 0.0000e+00, 0.0000e+00]],\n",
       "\n",
       "        [[6.1100e+02, 0.0000e+00, 0.0000e+00],\n",
       "         [1.4140e+03, 0.0000e+00, 0.0000e+00]],\n",
       "\n",
       "        [[7.2000e+01, 3.0000e+00, 0.0000e+00],\n",
       "         [2.5000e+01, 1.0000e+00, 0.0000e+00]],\n",
       "\n",
       "        [[2.5840e+03, 0.0000e+00, 0.0000e+00],\n",
       "         [2.1880e+03, 0.0000e+00, 0.0000e+00]],\n",
       "\n",
       "        [[7.2000e+01, 3.0000e+00, 0.0000e+00],\n",
       "         [8.0000e+01, 4.0000e+00, 0.0000e+00]],\n",
       "\n",
       "        [[5.3870e+03, 0.0000e+00, 0.0000e+00],\n",
       "         [2.7680e+03, 0.0000e+00, 0.0000e+00]],\n",
       "\n",
       "        [[1.9780e+03, 0.0000e+00, 0.0000e+00],\n",
       "         [7.0300e+02, 0.0000e+00, 0.0000e+00]],\n",
       "\n",
       "        [[3.7820e+03, 0.0000e+00, 0.0000e+00],\n",
       "         [9.2000e+01, 4.0000e+00, 0.0000e+00]]],\n",
       "\n",
       "\n",
       "       [[[2.9690e+03, 0.0000e+00, 0.0000e+00],\n",
       "         [1.1754e+04, 0.0000e+00, 0.0000e+00]],\n",
       "\n",
       "        [[2.2839e+04, 0.0000e+00, 0.0000e+00],\n",
       "         [6.7200e+02, 0.0000e+00, 0.0000e+00]],\n",
       "\n",
       "        [[4.2880e+03, 0.0000e+00, 0.0000e+00],\n",
       "         [2.8000e+01, 1.0000e+00, 0.0000e+00]],\n",
       "\n",
       "        [[3.4866e+04, 0.0000e+00, 0.0000e+00],\n",
       "         [1.0919e+04, 0.0000e+00, 0.0000e+00]],\n",
       "\n",
       "        [[1.6887e+04, 0.0000e+00, 0.0000e+00],\n",
       "         [1.2329e+04, 0.0000e+00, 0.0000e+00]],\n",
       "\n",
       "        [[4.4180e+03, 0.0000e+00, 0.0000e+00],\n",
       "         [1.9130e+03, 0.0000e+00, 0.0000e+00]],\n",
       "\n",
       "        [[1.2537e+04, 0.0000e+00, 0.0000e+00],\n",
       "         [4.0078e+04, 0.0000e+00, 0.0000e+00]],\n",
       "\n",
       "        [[1.2858e+04, 0.0000e+00, 0.0000e+00],\n",
       "         [8.2870e+03, 0.0000e+00, 0.0000e+00]],\n",
       "\n",
       "        [[7.0610e+03, 0.0000e+00, 0.0000e+00],\n",
       "         [2.5308e+04, 0.0000e+00, 0.0000e+00]]],\n",
       "\n",
       "\n",
       "       [[[5.6790e+03, 0.0000e+00, 0.0000e+00],\n",
       "         [6.2780e+03, 0.0000e+00, 0.0000e+00]],\n",
       "\n",
       "        [[6.1720e+03, 0.0000e+00, 0.0000e+00],\n",
       "         [3.9820e+03, 0.0000e+00, 0.0000e+00]],\n",
       "\n",
       "        [[1.6270e+03, 0.0000e+00, 0.0000e+00],\n",
       "         [5.7800e+02, 0.0000e+00, 0.0000e+00]],\n",
       "\n",
       "        [[2.5800e+02, 0.0000e+00, 0.0000e+00],\n",
       "         [2.2470e+03, 0.0000e+00, 0.0000e+00]],\n",
       "\n",
       "        [[2.0480e+03, 0.0000e+00, 0.0000e+00],\n",
       "         [1.1110e+04, 0.0000e+00, 0.0000e+00]],\n",
       "\n",
       "        [[8.4750e+03, 0.0000e+00, 0.0000e+00],\n",
       "         [6.5010e+03, 0.0000e+00, 0.0000e+00]],\n",
       "\n",
       "        [[1.0012e+04, 0.0000e+00, 0.0000e+00],\n",
       "         [2.7420e+03, 0.0000e+00, 0.0000e+00]],\n",
       "\n",
       "        [[3.0280e+03, 0.0000e+00, 0.0000e+00],\n",
       "         [1.6384e+04, 0.0000e+00, 0.0000e+00]],\n",
       "\n",
       "        [[2.1950e+03, 0.0000e+00, 0.0000e+00],\n",
       "         [1.4980e+03, 0.0000e+00, 0.0000e+00]]],\n",
       "\n",
       "\n",
       "       [[[2.3240e+03, 0.0000e+00, 0.0000e+00],\n",
       "         [1.1700e+03, 0.0000e+00, 0.0000e+00]],\n",
       "\n",
       "        [[1.3979e+04, 0.0000e+00, 0.0000e+00],\n",
       "         [2.1426e+04, 0.0000e+00, 0.0000e+00]],\n",
       "\n",
       "        [[3.8810e+03, 0.0000e+00, 0.0000e+00],\n",
       "         [1.9680e+03, 0.0000e+00, 0.0000e+00]],\n",
       "\n",
       "        [[1.4440e+03, 0.0000e+00, 0.0000e+00],\n",
       "         [4.2690e+03, 0.0000e+00, 0.0000e+00]],\n",
       "\n",
       "        [[4.2000e+01, 2.0000e+00, 0.0000e+00],\n",
       "         [1.8800e+02, 9.0000e+00, 0.0000e+00]],\n",
       "\n",
       "        [[1.8982e+04, 0.0000e+00, 0.0000e+00],\n",
       "         [3.3670e+03, 0.0000e+00, 0.0000e+00]],\n",
       "\n",
       "        [[1.5335e+04, 0.0000e+00, 0.0000e+00],\n",
       "         [1.1012e+04, 0.0000e+00, 0.0000e+00]],\n",
       "\n",
       "        [[3.9552e+04, 0.0000e+00, 0.0000e+00],\n",
       "         [7.3000e+02, 0.0000e+00, 0.0000e+00]],\n",
       "\n",
       "        [[9.0480e+03, 0.0000e+00, 0.0000e+00],\n",
       "         [1.3696e+04, 0.0000e+00, 0.0000e+00]]],\n",
       "\n",
       "\n",
       "       [[[1.9730e+03, 0.0000e+00, 0.0000e+00],\n",
       "         [3.9680e+03, 0.0000e+00, 0.0000e+00]],\n",
       "\n",
       "        [[2.4400e+02, 0.0000e+00, 0.0000e+00],\n",
       "         [8.8100e+02, 0.0000e+00, 0.0000e+00]],\n",
       "\n",
       "        [[2.8790e+03, 0.0000e+00, 0.0000e+00],\n",
       "         [4.8390e+03, 0.0000e+00, 0.0000e+00]],\n",
       "\n",
       "        [[3.0630e+03, 0.0000e+00, 0.0000e+00],\n",
       "         [1.5730e+03, 0.0000e+00, 0.0000e+00]],\n",
       "\n",
       "        [[2.4040e+03, 0.0000e+00, 0.0000e+00],\n",
       "         [2.6700e+02, 0.0000e+00, 0.0000e+00]],\n",
       "\n",
       "        [[8.3500e+02, 0.0000e+00, 0.0000e+00],\n",
       "         [4.0900e+02, 0.0000e+00, 0.0000e+00]],\n",
       "\n",
       "        [[8.9600e+02, 0.0000e+00, 0.0000e+00],\n",
       "         [2.3830e+03, 0.0000e+00, 0.0000e+00]],\n",
       "\n",
       "        [[5.5400e+02, 0.0000e+00, 0.0000e+00],\n",
       "         [1.5660e+03, 0.0000e+00, 0.0000e+00]],\n",
       "\n",
       "        [[1.8000e+03, 0.0000e+00, 0.0000e+00],\n",
       "         [1.6390e+03, 0.0000e+00, 0.0000e+00]]],\n",
       "\n",
       "\n",
       "       [[[9.2500e+02, 0.0000e+00, 0.0000e+00],\n",
       "         [2.2136e+04, 0.0000e+00, 0.0000e+00]],\n",
       "\n",
       "        [[3.2580e+03, 0.0000e+00, 0.0000e+00],\n",
       "         [2.6470e+03, 0.0000e+00, 0.0000e+00]],\n",
       "\n",
       "        [[2.2930e+03, 0.0000e+00, 0.0000e+00],\n",
       "         [4.5080e+03, 0.0000e+00, 0.0000e+00]],\n",
       "\n",
       "        [[3.5690e+03, 0.0000e+00, 0.0000e+00],\n",
       "         [8.1970e+03, 0.0000e+00, 0.0000e+00]],\n",
       "\n",
       "        [[7.5400e+02, 0.0000e+00, 0.0000e+00],\n",
       "         [4.0320e+03, 0.0000e+00, 0.0000e+00]],\n",
       "\n",
       "        [[2.9880e+03, 0.0000e+00, 0.0000e+00],\n",
       "         [2.1710e+04, 0.0000e+00, 0.0000e+00]],\n",
       "\n",
       "        [[3.9040e+03, 0.0000e+00, 0.0000e+00],\n",
       "         [5.0940e+03, 0.0000e+00, 0.0000e+00]],\n",
       "\n",
       "        [[1.1570e+03, 0.0000e+00, 0.0000e+00],\n",
       "         [8.8300e+02, 0.0000e+00, 0.0000e+00]],\n",
       "\n",
       "        [[3.1380e+03, 0.0000e+00, 0.0000e+00],\n",
       "         [1.4290e+03, 0.0000e+00, 0.0000e+00]]],\n",
       "\n",
       "\n",
       "       [[[5.7560e+03, 0.0000e+00, 0.0000e+00],\n",
       "         [6.3310e+03, 0.0000e+00, 0.0000e+00]],\n",
       "\n",
       "        [[2.6780e+03, 0.0000e+00, 0.0000e+00],\n",
       "         [1.4102e+04, 0.0000e+00, 0.0000e+00]],\n",
       "\n",
       "        [[2.8090e+03, 0.0000e+00, 0.0000e+00],\n",
       "         [3.1640e+03, 0.0000e+00, 0.0000e+00]],\n",
       "\n",
       "        [[2.8130e+03, 0.0000e+00, 0.0000e+00],\n",
       "         [1.2550e+04, 0.0000e+00, 0.0000e+00]],\n",
       "\n",
       "        [[4.2940e+03, 0.0000e+00, 0.0000e+00],\n",
       "         [4.5840e+03, 0.0000e+00, 0.0000e+00]],\n",
       "\n",
       "        [[3.0870e+03, 0.0000e+00, 0.0000e+00],\n",
       "         [2.4120e+03, 0.0000e+00, 0.0000e+00]],\n",
       "\n",
       "        [[5.7000e+01, 2.0000e+00, 0.0000e+00],\n",
       "         [3.9000e+01, 2.0000e+00, 0.0000e+00]],\n",
       "\n",
       "        [[2.8270e+03, 0.0000e+00, 0.0000e+00],\n",
       "         [5.2900e+02, 0.0000e+00, 0.0000e+00]],\n",
       "\n",
       "        [[8.6420e+03, 0.0000e+00, 0.0000e+00],\n",
       "         [7.4100e+02, 0.0000e+00, 0.0000e+00]]]])"
      ]
     },
     "execution_count": 398,
     "metadata": {},
     "output_type": "execute_result"
    }
   ],
   "source": [
    "SIR"
   ]
  },
  {
   "cell_type": "code",
   "execution_count": 399,
   "metadata": {
    "scrolled": true
   },
   "outputs": [
    {
     "data": {
      "text/plain": [
       "(10,)"
      ]
     },
     "execution_count": 399,
     "metadata": {},
     "output_type": "execute_result"
    }
   ],
   "source": [
    "row_sums.shape"
   ]
  },
  {
   "cell_type": "code",
   "execution_count": 400,
   "metadata": {},
   "outputs": [
    {
     "data": {
      "text/plain": [
       "array([[1., 0., 0.],\n",
       "       [1., 0., 0.],\n",
       "       [1., 0., 0.],\n",
       "       [1., 0., 0.],\n",
       "       [1., 0., 0.],\n",
       "       [1., 0., 0.],\n",
       "       [1., 0., 0.],\n",
       "       [1., 0., 0.],\n",
       "       [1., 0., 0.],\n",
       "       [1., 0., 0.]])"
      ]
     },
     "execution_count": 400,
     "metadata": {},
     "output_type": "execute_result"
    }
   ],
   "source": [
    "SIR_n"
   ]
  },
  {
   "cell_type": "code",
   "execution_count": 401,
   "metadata": {},
   "outputs": [
    {
     "data": {
      "text/plain": [
       "array([106392.,  31733., 145890.,  36994., 195027., 106054.,  87569.,\n",
       "        69615.,  94629.,  20868.])"
      ]
     },
     "execution_count": 401,
     "metadata": {},
     "output_type": "execute_result"
    }
   ],
   "source": [
    "row_sums"
   ]
  },
  {
   "cell_type": "code",
   "execution_count": 404,
   "metadata": {},
   "outputs": [
    {
     "ename": "ValueError",
     "evalue": "operands could not be broadcast together with shapes (10,9,2,3) (10,1) ",
     "output_type": "error",
     "traceback": [
      "\u001b[0;31m---------------------------------------------------------------------------\u001b[0m",
      "\u001b[0;31mValueError\u001b[0m                                Traceback (most recent call last)",
      "\u001b[0;32m<ipython-input-404-c85906e2b2cc>\u001b[0m in \u001b[0;36m<module>\u001b[0;34m\u001b[0m\n\u001b[1;32m      1\u001b[0m \u001b[0;31m# row normalize the SIR matrix for keeping track of group proportions\u001b[0m\u001b[0;34m\u001b[0m\u001b[0;34m\u001b[0m\u001b[0;34m\u001b[0m\u001b[0m\n\u001b[1;32m      2\u001b[0m \u001b[0mrow_sums\u001b[0m \u001b[0;34m=\u001b[0m \u001b[0mSIR\u001b[0m\u001b[0;34m.\u001b[0m\u001b[0msum\u001b[0m\u001b[0;34m(\u001b[0m\u001b[0maxis\u001b[0m\u001b[0;34m=\u001b[0m\u001b[0;36m3\u001b[0m\u001b[0;34m)\u001b[0m\u001b[0;34m.\u001b[0m\u001b[0msum\u001b[0m\u001b[0;34m(\u001b[0m\u001b[0maxis\u001b[0m\u001b[0;34m=\u001b[0m\u001b[0;36m2\u001b[0m\u001b[0;34m)\u001b[0m\u001b[0;34m.\u001b[0m\u001b[0msum\u001b[0m\u001b[0;34m(\u001b[0m\u001b[0maxis\u001b[0m\u001b[0;34m=\u001b[0m\u001b[0;36m1\u001b[0m\u001b[0;34m)\u001b[0m\u001b[0;34m\u001b[0m\u001b[0;34m\u001b[0m\u001b[0m\n\u001b[0;32m----> 3\u001b[0;31m \u001b[0mSIR_n\u001b[0m \u001b[0;34m=\u001b[0m \u001b[0mSIR\u001b[0m \u001b[0;34m/\u001b[0m \u001b[0mrow_sums\u001b[0m\u001b[0;34m[\u001b[0m\u001b[0;34m:\u001b[0m\u001b[0;34m,\u001b[0m \u001b[0mnp\u001b[0m\u001b[0;34m.\u001b[0m\u001b[0mnewaxis\u001b[0m\u001b[0;34m]\u001b[0m\u001b[0;34m\u001b[0m\u001b[0;34m\u001b[0m\u001b[0m\n\u001b[0m",
      "\u001b[0;31mValueError\u001b[0m: operands could not be broadcast together with shapes (10,9,2,3) (10,1) "
     ]
    }
   ],
   "source": [
    "# row normalize the SIR matrix for keeping track of group proportions\n",
    "row_sums = SIR.sum(axis=3).sum(axis=2).sum(axis=1)\n",
    "SIR_n = SIR / row_sums[:, np.newaxis]"
   ]
  },
  {
   "cell_type": "code",
   "execution_count": 406,
   "metadata": {},
   "outputs": [],
   "source": [
    "SIR_n = SIR"
   ]
  },
  {
   "cell_type": "markdown",
   "metadata": {},
   "source": [
    "### initialize parameters"
   ]
  },
  {
   "cell_type": "code",
   "execution_count": 407,
   "metadata": {},
   "outputs": [],
   "source": [
    "beta = np.full((9,2), 0.16)\n",
    "gamma = np.full((9,2), 0.04)\n",
    "public_trans = 0.5         # alpha\n",
    "R0 = beta/gamma\n",
    "beta_vec = np.random.gamma(beta, 1/gamma, (locs_len, 9, 2))\n",
    "gamma_vec = np.full((locs_len, 9, 2), gamma)\n",
    "public_trans_vec = np.full((locs_len, 9, 2), public_trans)"
   ]
  },
  {
   "cell_type": "code",
   "execution_count": 408,
   "metadata": {},
   "outputs": [],
   "source": [
    "# make copy of the SIR matrices \n",
    "SIR_sim = SIR.copy()\n",
    "SIR_nsim = SIR_n.copy()"
   ]
  },
  {
   "cell_type": "code",
   "execution_count": 411,
   "metadata": {},
   "outputs": [
    {
     "data": {
      "text/plain": [
       "(2, 9, 10, 10)"
      ]
     },
     "execution_count": 411,
     "metadata": {},
     "output_type": "execute_result"
    }
   ],
   "source": [
    "OD_infected.shape"
   ]
  },
  {
   "cell_type": "code",
   "execution_count": 418,
   "metadata": {},
   "outputs": [
    {
     "name": "stdout",
     "output_type": "stream",
     "text": [
      "True\n"
     ]
    },
    {
     "name": "stderr",
     "output_type": "stream",
     "text": [
      "<ipython-input-418-b87ade9871f3>:6: TqdmDeprecationWarning: This function will be removed in tqdm==5.0.0\n",
      "Please use `tqdm.notebook.tqdm` instead of `tqdm.tqdm_notebook`\n",
      "  for time_step in tqdm.tqdm_notebook(range(100)):\n"
     ]
    },
    {
     "data": {
      "application/vnd.jupyter.widget-view+json": {
       "model_id": "b7e00423e2f543dcbf2d5c15ad647c0b",
       "version_major": 2,
       "version_minor": 0
      },
      "text/plain": [
       "HBox(children=(FloatProgress(value=0.0), HTML(value='')))"
      ]
     },
     "metadata": {},
     "output_type": "display_data"
    },
    {
     "ename": "ValueError",
     "evalue": "shapes (2,9,10) and (10,9,2) not aligned: 10 (dim 2) != 9 (dim 1)",
     "output_type": "error",
     "traceback": [
      "\u001b[0;31m---------------------------------------------------------------------------\u001b[0m",
      "\u001b[0;31mValueError\u001b[0m                                Traceback (most recent call last)",
      "\u001b[0;32m<ipython-input-418-b87ade9871f3>\u001b[0m in \u001b[0;36m<module>\u001b[0;34m\u001b[0m\n\u001b[1;32m      8\u001b[0m   \u001b[0mOD_infected\u001b[0m \u001b[0;34m=\u001b[0m \u001b[0mnp\u001b[0m\u001b[0;34m.\u001b[0m\u001b[0mround\u001b[0m\u001b[0;34m(\u001b[0m\u001b[0mOD\u001b[0m\u001b[0;34m*\u001b[0m\u001b[0minfected_mat\u001b[0m\u001b[0;34m)\u001b[0m\u001b[0;34m\u001b[0m\u001b[0;34m\u001b[0m\u001b[0m\n\u001b[1;32m      9\u001b[0m   \u001b[0minflow_infected\u001b[0m \u001b[0;34m=\u001b[0m \u001b[0mOD_infected\u001b[0m\u001b[0;34m.\u001b[0m\u001b[0msum\u001b[0m\u001b[0;34m(\u001b[0m\u001b[0maxis\u001b[0m\u001b[0;34m=\u001b[0m\u001b[0;36m2\u001b[0m\u001b[0;34m)\u001b[0m\u001b[0;34m\u001b[0m\u001b[0;34m\u001b[0m\u001b[0m\n\u001b[0;32m---> 10\u001b[0;31m   \u001b[0minflow_infected\u001b[0m \u001b[0;34m=\u001b[0m \u001b[0mnp\u001b[0m\u001b[0;34m.\u001b[0m\u001b[0mround\u001b[0m\u001b[0;34m(\u001b[0m\u001b[0mnp\u001b[0m\u001b[0;34m.\u001b[0m\u001b[0mdot\u001b[0m\u001b[0;34m(\u001b[0m\u001b[0minflow_infected\u001b[0m\u001b[0;34m,\u001b[0m\u001b[0mpublic_trans_vec\u001b[0m\u001b[0;34m)\u001b[0m\u001b[0;34m)\u001b[0m\u001b[0;34m\u001b[0m\u001b[0;34m\u001b[0m\u001b[0m\n\u001b[0m\u001b[1;32m     11\u001b[0m   \u001b[0mprint\u001b[0m\u001b[0;34m(\u001b[0m\u001b[0;34m'total infected inflow: '\u001b[0m\u001b[0;34m,\u001b[0m \u001b[0minflow_infected\u001b[0m\u001b[0;34m.\u001b[0m\u001b[0msum\u001b[0m\u001b[0;34m(\u001b[0m\u001b[0;34m)\u001b[0m\u001b[0;34m)\u001b[0m\u001b[0;34m\u001b[0m\u001b[0;34m\u001b[0m\u001b[0m\n\u001b[1;32m     12\u001b[0m   \u001b[0mnew_infect\u001b[0m \u001b[0;34m=\u001b[0m \u001b[0mbeta_vec\u001b[0m\u001b[0;34m*\u001b[0m\u001b[0mSIR_sim\u001b[0m\u001b[0;34m[\u001b[0m\u001b[0;34m:\u001b[0m\u001b[0;34m,\u001b[0m \u001b[0;36m0\u001b[0m\u001b[0;34m]\u001b[0m\u001b[0;34m*\u001b[0m\u001b[0minflow_infected\u001b[0m\u001b[0;34m/\u001b[0m\u001b[0;34m(\u001b[0m\u001b[0mN_k\u001b[0m \u001b[0;34m+\u001b[0m \u001b[0mOD\u001b[0m\u001b[0;34m.\u001b[0m\u001b[0msum\u001b[0m\u001b[0;34m(\u001b[0m\u001b[0maxis\u001b[0m\u001b[0;34m=\u001b[0m\u001b[0;36m0\u001b[0m\u001b[0;34m)\u001b[0m\u001b[0;34m)\u001b[0m\u001b[0;34m\u001b[0m\u001b[0;34m\u001b[0m\u001b[0m\n",
      "\u001b[0;32m<__array_function__ internals>\u001b[0m in \u001b[0;36mdot\u001b[0;34m(*args, **kwargs)\u001b[0m\n",
      "\u001b[0;31mValueError\u001b[0m: shapes (2,9,10) and (10,9,2) not aligned: 10 (dim 2) != 9 (dim 1)"
     ]
    }
   ],
   "source": [
    "# run model\n",
    "print(SIR_sim.sum(axis=0).sum() == N_k.sum())\n",
    "infected_pop_norm = []\n",
    "susceptible_pop_norm = []\n",
    "recovered_pop_norm = []\n",
    "for time_step in tqdm.tqdm_notebook(range(100)):\n",
    "  infected_mat = np.array([SIR_nsim[:,:,:,1],]*locs_len).transpose()\n",
    "  OD_infected = np.round(OD*infected_mat)\n",
    "  inflow_infected = OD_infected.sum(axis=2)\n",
    "  inflow_infected = np.round(np.dot(inflow_infected,public_trans_vec))\n",
    "  print('total infected inflow: ', inflow_infected.sum())\n",
    "  new_infect = beta_vec*SIR_sim[:, 0]*inflow_infected/(N_k + OD.sum(axis=0))\n",
    "  new_recovered = gamma_vec*SIR_sim[:, 1]\n",
    "  new_infect = np.where(new_infect>SIR_sim[:, 0], SIR_sim[:, 0], new_infect)\n",
    "  SIR_sim[:, 0] = SIR_sim[:, 0] - new_infect\n",
    "  SIR_sim[:, 1] = SIR_sim[:, 1] + new_infect - new_recovered\n",
    "  SIR_sim[:, 2] = SIR_sim[:, 2] + new_recovered\n",
    "  SIR_sim = np.where(SIR_sim<0,0,SIR_sim)\n",
    "  # recompute the normalized SIR matrix\n",
    "  row_sums = SIR_sim.sum(axis=1)\n",
    "  SIR_nsim = SIR_sim / row_sums[:, np.newaxis]\n",
    "  S = SIR_sim[:,0].sum()/N_k.sum()\n",
    "  I = SIR_sim[:,1].sum()/N_k.sum()\n",
    "  R = SIR_sim[:,2].sum()/N_k.sum()\n",
    "  print(S, I, R, (S+I+R)*N_k.sum(), N_k.sum())\n",
    "  print('\\n')\n",
    "  infected_pop_norm.append(I)\n",
    "  susceptible_pop_norm.append(S)\n",
    "  recovered_pop_norm.append(R)"
   ]
  },
  {
   "cell_type": "code",
   "execution_count": 413,
   "metadata": {},
   "outputs": [
    {
     "data": {
      "text/plain": [
       "(10, 9, 2)"
      ]
     },
     "execution_count": 413,
     "metadata": {},
     "output_type": "execute_result"
    }
   ],
   "source": [
    "inflow_infected.T.shape"
   ]
  },
  {
   "cell_type": "code",
   "execution_count": 265,
   "metadata": {},
   "outputs": [
    {
     "data": {
      "text/plain": [
       "<matplotlib.legend.Legend at 0x129836d90>"
      ]
     },
     "execution_count": 265,
     "metadata": {},
     "output_type": "execute_result"
    },
    {
     "name": "stdout",
     "output_type": "stream",
     "text": [
      "\n"
     ]
    },
    {
     "data": {
      "image/png": "[encoded data removed]",
      "text/plain": [
       "<Figure size 432x288 with 1 Axes>"
      ]
     },
     "metadata": {
      "needs_background": "light"
     },
     "output_type": "display_data"
    }
   ],
   "source": [
    "plt.plot(susceptible_pop_norm, label='S')\n",
    "plt.plot(infected_pop_norm, label='I')\n",
    "plt.plot(recovered_pop_norm, label='R')\n",
    "plt.legend()"
   ]
  },
  {
   "cell_type": "code",
   "execution_count": null,
   "metadata": {},
   "outputs": [],
   "source": []
  },
  {
   "cell_type": "code",
   "execution_count": null,
   "metadata": {},
   "outputs": [],
   "source": []
  }
 ],
 "metadata": {
  "kernelspec": {
   "display_name": "Python 3",
   "language": "python",
   "name": "python3"
  },
  "language_info": {
   "codemirror_mode": {
    "name": "ipython",
    "version": 3
   },
   "file_extension": ".py",
   "mimetype": "text/x-python",
   "name": "python",
   "nbconvert_exporter": "python",
   "pygments_lexer": "ipython3",
   "version": "3.8.1"
  }
 },
 "nbformat": 4,
 "nbformat_minor": 4
}
