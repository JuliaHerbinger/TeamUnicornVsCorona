{
 "cells": [
  {
   "cell_type": "code",
   "execution_count": 20,
   "metadata": {},
   "outputs": [],
   "source": [
    "import numpy as np\n",
    "import tqdm\n",
    "import matplotlib.pyplot as plt"
   ]
  },
  {
   "cell_type": "code",
   "execution_count": 145,
   "metadata": {},
   "outputs": [],
   "source": [
    "OD = np.random.randint(100,10000, (1000, 1000, 9,2))\n",
    "thresh = 200"
   ]
  },
  {
   "cell_type": "markdown",
   "metadata": {},
   "source": [
    "## Building the data"
   ]
  },
  {
   "cell_type": "markdown",
   "metadata": {},
   "source": [
    "Let's use the following conventions:\n",
    "age groups (as in paper):\n",
    "    - 0 to 9\n",
    "    - 10 to 19\n",
    "    - 20 to 29\n",
    "    - 30 to 39\n",
    "    - 40 to 49\n",
    "    - 50 to 59\n",
    "    - 60 to 69\n",
    "    - 70 to 79\n",
    "    - 80+\n",
    "and further compartementalize according to sex.\n",
    "\n",
    "All rates are therefore given as 2D arrays of shape (9, 2) where the first axis is the age group and the second the gender."
   ]
  },
  {
   "cell_type": "code",
   "execution_count": 147,
   "metadata": {},
   "outputs": [],
   "source": [
    "OD = OD.sum(axis=3).sum(axis=2)"
   ]
  },
  {
   "cell_type": "code",
   "execution_count": 153,
   "metadata": {},
   "outputs": [],
   "source": [
    "OD = np.random.randint(100,10000, (3, 3))"
   ]
  },
  {
   "cell_type": "code",
   "execution_count": 154,
   "metadata": {},
   "outputs": [
    {
     "data": {
      "text/plain": [
       "array([[ 326, 4746,  374],\n",
       "       [3582, 9335, 8973],\n",
       "       [1276,  876, 8626]])"
      ]
     },
     "execution_count": 154,
     "metadata": {},
     "output_type": "execute_result"
    }
   ],
   "source": [
    "OD"
   ]
  },
  {
   "cell_type": "code",
   "execution_count": 155,
   "metadata": {},
   "outputs": [
    {
     "data": {
      "text/plain": [
       "array([ 326, 9335, 8626])"
      ]
     },
     "execution_count": 155,
     "metadata": {},
     "output_type": "execute_result"
    }
   ],
   "source": [
    "np.diagonal(OD)"
   ]
  },
  {
   "cell_type": "code",
   "execution_count": 156,
   "metadata": {},
   "outputs": [
    {
     "data": {
      "text/plain": [
       "array([ 5184, 14957, 17973])"
      ]
     },
     "execution_count": 156,
     "metadata": {},
     "output_type": "execute_result"
    }
   ],
   "source": [
    "OD.sum(axis=0)"
   ]
  },
  {
   "cell_type": "code",
   "execution_count": 157,
   "metadata": {},
   "outputs": [
    {
     "data": {
      "text/plain": [
       "array([ 5446, 21890, 10778])"
      ]
     },
     "execution_count": 157,
     "metadata": {},
     "output_type": "execute_result"
    }
   ],
   "source": [
    "OD.sum(axis=1)"
   ]
  },
  {
   "cell_type": "code",
   "execution_count": 150,
   "metadata": {
    "scrolled": true
   },
   "outputs": [
    {
     "ename": "ValueError",
     "evalue": "could not broadcast input array from shape (1000) into shape (1000,9,2)",
     "output_type": "error",
     "traceback": [
      "\u001b[0;31m---------------------------------------------------------------------------\u001b[0m",
      "\u001b[0;31mValueError\u001b[0m                                Traceback (most recent call last)",
      "\u001b[0;32m<ipython-input-150-28c179434320>\u001b[0m in \u001b[0;36m<module>\u001b[0;34m\u001b[0m\n\u001b[1;32m      3\u001b[0m \u001b[0mlocs_len\u001b[0m \u001b[0;34m=\u001b[0m \u001b[0mlen\u001b[0m\u001b[0;34m(\u001b[0m\u001b[0mN_k\u001b[0m\u001b[0;34m)\u001b[0m                      \u001b[0;31m# number of locations\u001b[0m\u001b[0;34m\u001b[0m\u001b[0;34m\u001b[0m\u001b[0m\n\u001b[1;32m      4\u001b[0m \u001b[0mSIR\u001b[0m \u001b[0;34m=\u001b[0m \u001b[0mnp\u001b[0m\u001b[0;34m.\u001b[0m\u001b[0mzeros\u001b[0m\u001b[0;34m(\u001b[0m\u001b[0mshape\u001b[0m\u001b[0;34m=\u001b[0m\u001b[0;34m(\u001b[0m\u001b[0mlocs_len\u001b[0m\u001b[0;34m,\u001b[0m \u001b[0;36m9\u001b[0m\u001b[0;34m,\u001b[0m \u001b[0;36m2\u001b[0m\u001b[0;34m,\u001b[0m \u001b[0;36m3\u001b[0m\u001b[0;34m)\u001b[0m\u001b[0;34m)\u001b[0m \u001b[0;31m# make a numpy array with 3 columns for keeping track of the S, I, R groups\u001b[0m\u001b[0;34m\u001b[0m\u001b[0;34m\u001b[0m\u001b[0m\n\u001b[0;32m----> 5\u001b[0;31m \u001b[0mSIR\u001b[0m\u001b[0;34m[\u001b[0m\u001b[0;34m:\u001b[0m\u001b[0;34m,\u001b[0m\u001b[0;34m:\u001b[0m\u001b[0;34m,\u001b[0m\u001b[0;34m:\u001b[0m\u001b[0;34m,\u001b[0m\u001b[0;36m0\u001b[0m\u001b[0;34m]\u001b[0m \u001b[0;34m=\u001b[0m \u001b[0mN_k\u001b[0m                      \u001b[0;31m# initialize the S group with the respective populations\u001b[0m\u001b[0;34m\u001b[0m\u001b[0;34m\u001b[0m\u001b[0m\n\u001b[0m",
      "\u001b[0;31mValueError\u001b[0m: could not broadcast input array from shape (1000) into shape (1000,9,2)"
     ]
    }
   ],
   "source": [
    "# initialize the population vector from the origin-destination flow matrix\n",
    "N_k = np.abs(np.diagonal(OD) + OD.sum(axis=0) - OD.sum(axis=1))\n",
    "locs_len = len(N_k)                      # number of locations\n",
    "SIR = np.zeros(shape=(locs_len, 9, 2, 3)) # make a numpy array with 3 columns for keeping track of the S, I, R groups\n",
    "SIR[:,:,:,0] = N_k                      # initialize the S group with the respective populations"
   ]
  },
  {
   "cell_type": "code",
   "execution_count": 152,
   "metadata": {},
   "outputs": [
    {
     "data": {
      "text/plain": [
       "(1000, 9, 2, 3)"
      ]
     },
     "execution_count": 152,
     "metadata": {},
     "output_type": "execute_result"
    }
   ],
   "source": [
    "SIR.shape"
   ]
  },
  {
   "cell_type": "code",
   "execution_count": 128,
   "metadata": {},
   "outputs": [
    {
     "data": {
      "text/plain": [
       "(9, 2)"
      ]
     },
     "execution_count": 128,
     "metadata": {},
     "output_type": "execute_result"
    }
   ],
   "source": [
    "locs_len.shape"
   ]
  },
  {
   "cell_type": "code",
   "execution_count": 7,
   "metadata": {},
   "outputs": [],
   "source": [
    "first_infections = np.where(SIR[:, 0]<=thresh, SIR[:, 0]//20, 0)   # for demo purposes, randomly introduce infections\n",
    "SIR[:, 0] = SIR[:, 0] - first_infections\n",
    "SIR[:, 1] = SIR[:, 1] + first_infections                           # move infections to the I group"
   ]
  },
  {
   "cell_type": "code",
   "execution_count": 8,
   "metadata": {},
   "outputs": [],
   "source": [
    "# row normalize the SIR matrix for keeping track of group proportions\n",
    "row_sums = SIR.sum(axis=1)\n",
    "SIR_n = SIR / row_sums[:, np.newaxis]"
   ]
  },
  {
   "cell_type": "markdown",
   "metadata": {},
   "source": [
    "### initialize parameters"
   ]
  },
  {
   "cell_type": "code",
   "execution_count": 119,
   "metadata": {},
   "outputs": [],
   "source": [
    "beta = np.full((9,2), 0.16)\n",
    "gamma = np.full((9,2), 0.04)\n",
    "public_trans = 0.5         # alpha\n",
    "R0 = beta/gamma\n",
    "beta_vec = np.random.gamma(beta, 1/gamma, locs_len)\n",
    "gamma_vec = np.full(locs_len, gamma)\n",
    "public_trans_vec = np.full(locs_len, public_trans)"
   ]
  },
  {
   "cell_type": "code",
   "execution_count": 116,
   "metadata": {},
   "outputs": [],
   "source": [
    "# make copy of the SIR matrices \n",
    "SIR_sim = SIR.copy()\n",
    "SIR_nsim = SIR_n.copy()"
   ]
  },
  {
   "cell_type": "code",
   "execution_count": 117,
   "metadata": {},
   "outputs": [
    {
     "name": "stdout",
     "output_type": "stream",
     "text": [
      "True\n"
     ]
    },
    {
     "name": "stderr",
     "output_type": "stream",
     "text": [
      "<ipython-input-117-de1afcd48c3d>:6: TqdmDeprecationWarning: This function will be removed in tqdm==5.0.0\n",
      "Please use `tqdm.notebook.tqdm` instead of `tqdm.tqdm_notebook`\n",
      "  for time_step in tqdm.tqdm_notebook(range(100)):\n"
     ]
    },
    {
     "data": {
      "application/vnd.jupyter.widget-view+json": {
       "model_id": "f364df2a981748e180908a90484134e0",
       "version_major": 2,
       "version_minor": 0
      },
      "text/plain": [
       "HBox(children=(FloatProgress(value=0.0), HTML(value='')))"
      ]
     },
     "metadata": {},
     "output_type": "display_data"
    },
    {
     "name": "stdout",
     "output_type": "stream",
     "text": [
      "total infected inflow:  25360.0\n",
      "0.9999774171947439 2.2582410488362012e-05 3.947677755367798e-10 101325393.0 101325393\n",
      "\n",
      "\n",
      "total infected inflow:  31782.0\n",
      "0.9999491360655018 4.996024331073932e-05 9.036911873100172e-07 101325392.99999999 101325393\n",
      "\n",
      "\n",
      "total infected inflow:  43174.0\n",
      "0.9999107618420388 8.633605704144872e-05 2.90210091973959e-06 101325392.99999999 101325393\n",
      "\n",
      "\n",
      "total infected inflow:  59092.0\n",
      "0.9998583894476019 0.00013525500919687726 6.355543201397539e-06 101325393.00000003 101325393\n",
      "\n",
      "\n",
      "total infected inflow:  81333.0\n",
      "0.9997863724919696 0.00020186176446118965 1.176574356927263e-05 101325393.0 101325393\n",
      "\n",
      "\n",
      "total infected inflow:  112083.0\n",
      "0.9996872500263656 0.00029290975948673636 1.9840214147720217e-05 101325393.0 101325393\n",
      "\n",
      "\n",
      "total infected inflow:  154746.0\n",
      "0.9995505852053762 0.000417858190096652 3.1556604527189674e-05 101325393.0 101325393\n",
      "\n",
      "\n",
      "total infected inflow:  213382.0\n",
      "0.9993623453441991 0.0005893837236699409 4.8270932131055756e-05 101325393.0 101325393\n",
      "\n",
      "\n",
      "total infected inflow:  294230.0\n",
      "0.9991033094327152 0.0008248442862069114 7.184628107785339e-05 101325392.99999999 101325393\n",
      "\n",
      "\n",
      "total infected inflow:  405726.0\n",
      "0.9987467576951609 0.0011484022523131046 0.00010484005252612984 101325393.0 101325393\n",
      "\n",
      "\n",
      "total infected inflow:  559414.0\n",
      "0.9982564595024543 0.0015927643549270489 0.00015077614261865404 101325393.0 101325393\n",
      "\n",
      "\n",
      "total infected inflow:  770874.0\n",
      "0.9975831095061763 0.002202403777007907 0.00021448671681573598 101325393.0 101325393\n",
      "\n",
      "\n",
      "total infected inflow:  1061065.0\n",
      "0.9966606661685069 0.0030367509635971725 0.0003025828678960523 101325393.0 101325393\n",
      "\n",
      "\n",
      "total infected inflow:  1458774.0\n",
      "0.9954004770146146 0.004175470078945437 0.0004240529064399392 101325393.0 101325393\n",
      "\n",
      "\n",
      "total infected inflow:  2001897.0\n",
      "0.9936864124926194 0.005722515797782944 0.0005910717095977566 101325393.0 101325393\n",
      "\n",
      "\n",
      "total infected inflow:  2740106.0\n",
      "0.9913680478404241 0.007811979818066909 0.0008199723415090746 101325393.0 101325393\n",
      "\n",
      "\n",
      "total infected inflow:  3737602.0\n",
      "0.9882566157150539 0.010610932750714428 0.0011324515342317507 101325393.0 101325393\n",
      "\n",
      "\n",
      "total infected inflow:  5074447.0\n",
      "0.9841237837375127 0.014319327418226968 0.001556888844260328 101325393.0 101325393\n",
      "\n",
      "\n",
      "total infected inflow:  6846546.0\n",
      "0.9787088595126898 0.0191614785463206 0.0021296619409894068 101325392.99999997 101325393\n",
      "\n",
      "\n",
      "total infected inflow:  9162005.0\n",
      "0.9717387869039826 0.02536509201317503 0.0028961210828422307 101325392.99999999 101325393\n",
      "\n",
      "\n",
      "total infected inflow:  12130753.0\n",
      "0.9629662011398525 0.03312307409677822 0.0039107247633692315 101325392.99999999 101325393\n",
      "\n",
      "\n",
      "total infected inflow:  15846767.0\n",
      "0.9522252248441593 0.04253912742860045 0.005235647727240361 101325393.0 101325393\n",
      "\n",
      "\n",
      "total infected inflow:  20362168.0\n",
      "0.939493900258424 0.05356888691719153 0.0069372128243843775 101325393.0 101325393\n",
      "\n",
      "\n",
      "total infected inflow:  25658069.0\n",
      "0.9249401167785098 0.06597991492041812 0.00907996830107204 101325393.0 101325393\n",
      "\n",
      "\n",
      "total infected inflow:  31625932.0\n",
      "0.9089213934834379 0.07935944161867324 0.011719164897888766 101325392.99999999 101325393\n",
      "\n",
      "\n",
      "total infected inflow:  38069950.0\n",
      "0.8919294766866017 0.09317698075076263 0.014893542562635694 101325393.0 101325393\n",
      "\n",
      "\n",
      "total infected inflow:  44738576.0\n",
      "0.8745016894848732 0.10687768872246059 0.0186206217926662 101325393.0 101325393\n",
      "\n",
      "\n",
      "total infected inflow:  51369595.0\n",
      "0.8571391436077358 0.11996512705069963 0.022895729341564624 101325393.0 101325393\n",
      "\n",
      "\n",
      "total infected inflow:  57730777.0\n",
      "0.8402547177872043 0.13205094778920307 0.02769433442359261 101325392.99999999 101325393\n",
      "\n",
      "\n",
      "total infected inflow:  63641093.0\n",
      "0.8241499618656276 0.14287366579921174 0.032976372335160736 101325393.00000003 101325393\n",
      "\n",
      "\n",
      "total infected inflow:  68977313.0\n",
      "0.8090124017179886 0.1522962793148821 0.038691318967129205 101325392.99999999 101325393\n",
      "\n",
      "\n",
      "total infected inflow:  73671564.0\n",
      "0.7949298564679947 0.1602869733922807 0.04478317013972448 101325392.99999999 101325393\n",
      "\n",
      "\n",
      "total infected inflow:  77702275.0\n",
      "0.7819146888986152 0.16689066202596928 0.05119464907541572 101325393.00000003 101325393\n",
      "\n",
      "\n",
      "total infected inflow:  81082959.0\n",
      "0.7699297047425847 0.17220001970096077 0.05787027555645448 101325393.0 101325393\n",
      "\n",
      "\n",
      "total infected inflow:  83849818.0\n",
      "0.7589099388524647 0.17633178480304243 0.06475827634449291 101325393.0 101325393\n",
      "\n",
      "\n",
      "total infected inflow:  86051781.0\n",
      "0.7487779333743246 0.17941051888906068 0.07181154773661462 101325392.99999999 101325393\n",
      "\n",
      "\n",
      "total infected inflow:  87743151.0\n",
      "0.7394535229684113 0.18155850853941163 0.07898796849217704 101325393.0 101325393\n",
      "\n",
      "\n",
      "total infected inflow:  88978496.0\n",
      "0.7308592994080942 0.18289039175815233 0.08625030883375351 101325393.0 101325393\n",
      "\n",
      "\n",
      "total infected inflow:  89810310.0\n",
      "0.7229233942131692 0.18351068128275122 0.09356592450407959 101325393.0 101325393\n",
      "\n",
      "\n",
      "total infected inflow:  90286820.0\n",
      "0.7155806780052233 0.1835129702393872 0.10090635175538964 101325393.0 101325393\n",
      "\n",
      "\n",
      "total infected inflow:  90452408.0\n",
      "0.7087728224697101 0.1829803069653248 0.10824687056496514 101325393.0 101325393\n",
      "\n",
      "\n",
      "total infected inflow:  90346586.0\n",
      "0.7024479955453165 0.1819859216111054 0.11556608284357812 101325393.0 101325393\n",
      "\n",
      "\n",
      "total infected inflow:  90004688.0\n",
      "0.6965602616888288 0.18059421860314898 0.12284551970802235 101325393.0 101325393\n",
      "\n",
      "\n",
      "total infected inflow:  89458067.0\n",
      "0.6910689549310773 0.17886175661677442 0.1300692884521483 101325393.0 101325393\n",
      "\n",
      "\n",
      "total infected inflow:  88734344.0\n",
      "0.6859380621173191 0.17683817916586164 0.13722375871681927 101325393.0 101325393\n",
      "\n",
      "\n",
      "total infected inflow:  87858156.0\n",
      "0.6811355998260767 0.17456711429046942 0.14429728588345375 101325393.0 101325393\n",
      "\n",
      "\n",
      "total infected inflow:  86851129.0\n",
      "0.6766331431703985 0.1720868863745291 0.15127997045507252 101325393.0 101325393\n",
      "\n",
      "\n",
      "total infected inflow:  85732349.0\n",
      "0.6724053535434188 0.16943120054652755 0.15816344591005368 101325393.0 101325393\n",
      "\n",
      "\n",
      "total infected inflow:  84518681.0\n",
      "0.66842960297245 0.16662970309563518 0.1649406939319148 101325393.0 101325393\n",
      "\n",
      "\n",
      "total infected inflow:  83225120.0\n",
      "0.6646856283377406 0.1637084896065192 0.17160588205574018 101325393.0 101325393\n",
      "\n",
      "\n",
      "total infected inflow:  81864873.0\n",
      "0.6611552440435969 0.16069053431640207 0.17815422164000097 101325393.0 101325393\n",
      "\n",
      "\n",
      "total infected inflow:  80449538.0\n",
      "0.6578220941865414 0.15759606280080168 0.18458184301265704 101325393.00000003 101325393\n",
      "\n",
      "\n",
      "total infected inflow:  78989489.0\n",
      "0.6546714203998368 0.1544428940754741 0.19088568552468912 101325393.0 101325393\n",
      "\n",
      "\n",
      "total infected inflow:  77493806.0\n",
      "0.6516899012703651 0.15124669744192698 0.19706340128770808 101325393.00000003 101325393\n",
      "\n",
      "\n",
      "total infected inflow:  75970707.0\n",
      "0.6488654511972322 0.14802127961738265 0.20311326918538516 101325393.0 101325393\n",
      "\n",
      "\n",
      "total infected inflow:  74427161.0\n",
      "0.6461871164183269 0.14477876321159255 0.20903412037008048 101325393.0 101325393\n",
      "\n",
      "\n",
      "total infected inflow:  72869695.0\n",
      "0.6436449120945635 0.1415298170068923 0.21482527089854417 101325393.0 101325393\n",
      "\n",
      "\n",
      "total infected inflow:  71303612.0\n",
      "0.6412297576247236 0.13828377879645662 0.22048646357881987 101325393.0 101325393\n",
      "\n",
      "\n",
      "total infected inflow:  69734119.0\n",
      "0.6389333409472354 0.13504884432208633 0.2260178147306781 101325392.99999997 101325393\n",
      "\n",
      "\n",
      "total infected inflow:  68165436.0\n",
      "0.6367480575298589 0.13183217396657962 0.23141976850356158 101325393.0 101325393\n",
      "\n",
      "\n",
      "total infected inflow:  66601411.0\n",
      "0.6346669362447594 0.12864000829301583 0.23669305546222477 101325393.0 101325393\n",
      "\n",
      "\n",
      "total infected inflow:  65045329.0\n",
      "0.6326835763866123 0.1254777678194423 0.2418386557939454 101325393.0 101325393\n",
      "\n",
      "\n",
      "total infected inflow:  63500312.0\n",
      "0.6307920768842546 0.12235015660902225 0.2468577665067231 101325393.0 101325393\n",
      "\n",
      "\n",
      "total infected inflow:  61968762.0\n",
      "0.6289869997273048 0.11926122750161122 0.251751772771084 101325393.0 101325393\n",
      "\n",
      "\n",
      "total infected inflow:  60453032.0\n",
      "0.627263323803834 0.11621445432501759 0.2565222218711484 101325393.0 101325393\n",
      "\n",
      "\n",
      "total infected inflow:  58955004.0\n",
      "0.6256164059468119 0.11321279400903898 0.2611708000441491 101325393.0 101325393\n",
      "\n",
      "\n",
      "total infected inflow:  57476445.0\n",
      "0.6240419389144385 0.1102587492810508 0.2656993118045107 101325393.0 101325393\n",
      "\n",
      "\n",
      "total infected inflow:  56018715.0\n",
      "0.6225359283391161 0.10735440988513113 0.2701096617757527 101325392.99999999 101325393\n",
      "\n",
      "\n",
      "total infected inflow:  54583134.0\n",
      "0.6210946627331112 0.10450149909573084 0.274403838171158 101325393.0 101325393\n",
      "\n",
      "\n",
      "total infected inflow:  53170678.0\n",
      "0.6197146888899415 0.10170141297507129 0.27858389813498724 101325393.0 101325393\n",
      "\n",
      "\n",
      "total infected inflow:  51782218.0\n",
      "0.6183927877241757 0.09895525762183417 0.28265195465399007 101325393.0 101325393\n",
      "\n",
      "\n",
      "total infected inflow:  50418505.0\n",
      "0.617125952102317 0.09626388293881948 0.28661016495886343 101325393.0 101325393\n",
      "\n",
      "\n",
      "total infected inflow:  49080147.0\n",
      "0.6159113768031427 0.09362790292044113 0.2904607202764162 101325393.0 101325393\n",
      "\n",
      "\n",
      "total infected inflow:  47767465.0\n",
      "0.6147464359675456 0.0910477276392206 0.29420583639323383 101325393.0 101325393\n",
      "\n",
      "\n",
      "total infected inflow:  46480985.0\n",
      "0.6136286704838458 0.0885235840173514 0.29784774549880266 101325392.99999999 101325393\n",
      "\n",
      "\n",
      "total infected inflow:  45220779.0\n",
      "0.6125557782240676 0.08605553291643574 0.3013886888594967 101325393.0 101325393\n",
      "\n",
      "\n",
      "total infected inflow:  43987176.0\n",
      "0.6115255923385996 0.08364349748524624 0.30483091017615416 101325393.0 101325393\n",
      "\n",
      "\n",
      "total infected inflow:  42780069.0\n",
      "0.610536081028931 0.08128726889550501 0.308176650075564 101325393.0 101325393\n",
      "\n",
      "\n",
      "total infected inflow:  41599586.0\n",
      "0.6095853323704985 0.0789865267981173 0.3114281408313842 101325393.0 101325393\n",
      "\n",
      "\n"
     ]
    },
    {
     "name": "stdout",
     "output_type": "stream",
     "text": [
      "total infected inflow:  40445650.0\n",
      "0.6086715467444057 0.07674085135228549 0.31458760190330887 101325393.0 101325393\n",
      "\n",
      "\n",
      "total infected inflow:  39318120.0\n",
      "0.6077930285772155 0.07454973546538413 0.3176572359574003 101325393.0 101325393\n",
      "\n",
      "\n",
      "total infected inflow:  38216816.0\n",
      "0.6069481764460036 0.07241259817798064 0.3206392253760157 101325393.0 101325393\n",
      "\n",
      "\n",
      "total infected inflow:  37141631.0\n",
      "0.6061354827439099 0.07032878795295514 0.3235357293031349 101325393.0 101325393\n",
      "\n",
      "\n",
      "total infected inflow:  36092207.0\n",
      "0.6053535188516053 0.06829760032714173 0.3263488808212531 101325393.0 101325393\n",
      "\n",
      "\n",
      "total infected inflow:  35068355.0\n",
      "0.6046009353077262 0.06631827985793506 0.3290807848343388 101325393.0 101325393\n",
      "\n",
      "\n",
      "total infected inflow:  34069716.0\n",
      "0.6038764552177559 0.06439002875358796 0.33173351602865614 101325393.0 101325393\n",
      "\n",
      "\n",
      "total infected inflow:  33095987.0\n",
      "0.6031788690891038 0.06251201373209642 0.33430911717879974 101325393.0 101325393\n",
      "\n",
      "\n",
      "total infected inflow:  32146828.0\n",
      "0.6025070283719725 0.06068337389994397 0.33680959772808355 101325393.0 101325393\n",
      "\n",
      "\n",
      "total infected inflow:  31221819.0\n",
      "0.6018598523283165 0.05890321498760216 0.3392369326840813 101325393.0 101325393\n",
      "\n",
      "\n",
      "total infected inflow:  30320572.0\n",
      "0.6012363063369617 0.05717063237945297 0.3415930612835854 101325393.0 101325393\n",
      "\n",
      "\n",
      "total infected inflow:  29442788.0\n",
      "0.6006354067959558 0.05548470662528066 0.3438798865787635 101325393.0 101325393\n",
      "\n",
      "\n",
      "total infected inflow:  28587983.0\n",
      "0.6000562258136231 0.05384449934260219 0.3460992748437748 101325393.0 101325393\n",
      "\n",
      "\n",
      "total infected inflow:  27755605.0\n",
      "0.5994978771110668 0.05224906807145441 0.3482530548174788 101325393.0 101325393\n",
      "\n",
      "\n",
      "total infected inflow:  26945452.0\n",
      "0.5989595186179708 0.05069746384169217 0.350343017540337 101325393.0 101325393\n",
      "\n",
      "\n",
      "total infected inflow:  26156965.0\n",
      "0.5984403493031127 0.04918873460288258 0.3523709160940046 101325392.99999999 101325393\n",
      "\n",
      "\n",
      "total infected inflow:  25389677.0\n",
      "0.5979396033573775 0.047721931164502504 0.35433846547812 101325393.0 101325393\n",
      "\n",
      "\n",
      "total infected inflow:  24643219.0\n",
      "0.5974565536619965 0.04629610361330338 0.3562473427247001 101325393.0 101325393\n",
      "\n",
      "\n",
      "total infected inflow:  23917134.0\n",
      "0.5969905040743446 0.044910309056423084 0.35809918686923226 101325393.0 101325393\n",
      "\n",
      "\n",
      "total infected inflow:  23210947.0\n",
      "0.5965407952446494 0.043563605523861355 0.35989559923148917 101325393.0 101325393\n",
      "\n",
      "\n",
      "total infected inflow:  22524306.0\n",
      "0.5961067905393994 0.04225506600815701 0.36163814345244366 101325393.0 101325393\n",
      "\n",
      "\n",
      "\n"
     ]
    }
   ],
   "source": [
    "# run model\n",
    "print(SIR_sim.sum(axis=0).sum() == N_k.sum())\n",
    "infected_pop_norm = []\n",
    "susceptible_pop_norm = []\n",
    "recovered_pop_norm = []\n",
    "for time_step in tqdm.tqdm_notebook(range(100)):\n",
    "  infected_mat = np.array([SIR_nsim[:,1],]*locs_len).transpose()\n",
    "  OD_infected = np.round(OD*infected_mat)\n",
    "  inflow_infected = OD_infected.sum(axis=0)\n",
    "  inflow_infected = np.round(inflow_infected*public_trans_vec)\n",
    "  print('total infected inflow: ', inflow_infected.sum())\n",
    "  new_infect = beta_vec*SIR_sim[:, 0]*inflow_infected/(N_k + OD.sum(axis=0))\n",
    "  new_recovered = gamma_vec*SIR_sim[:, 1]\n",
    "  new_infect = np.where(new_infect>SIR_sim[:, 0], SIR_sim[:, 0], new_infect)\n",
    "  SIR_sim[:, 0] = SIR_sim[:, 0] - new_infect\n",
    "  SIR_sim[:, 1] = SIR_sim[:, 1] + new_infect - new_recovered\n",
    "  SIR_sim[:, 2] = SIR_sim[:, 2] + new_recovered\n",
    "  SIR_sim = np.where(SIR_sim<0,0,SIR_sim)\n",
    "  # recompute the normalized SIR matrix\n",
    "  row_sums = SIR_sim.sum(axis=1)\n",
    "  SIR_nsim = SIR_sim / row_sums[:, np.newaxis]\n",
    "  S = SIR_sim[:,0].sum()/N_k.sum()\n",
    "  I = SIR_sim[:,1].sum()/N_k.sum()\n",
    "  R = SIR_sim[:,2].sum()/N_k.sum()\n",
    "  print(S, I, R, (S+I+R)*N_k.sum(), N_k.sum())\n",
    "  print('\\n')\n",
    "  infected_pop_norm.append(I)\n",
    "  susceptible_pop_norm.append(S)\n",
    "  recovered_pop_norm.append(R)"
   ]
  },
  {
   "cell_type": "code",
   "execution_count": 118,
   "metadata": {},
   "outputs": [
    {
     "data": {
      "text/plain": [
       "<matplotlib.legend.Legend at 0x12975ebe0>"
      ]
     },
     "execution_count": 118,
     "metadata": {},
     "output_type": "execute_result"
    },
    {
     "data": {
      "image/png": "[encoded data removed]",
      "text/plain": [
       "<Figure size 432x288 with 1 Axes>"
      ]
     },
     "metadata": {
      "needs_background": "light"
     },
     "output_type": "display_data"
    }
   ],
   "source": [
    "plt.plot(susceptible_pop_norm, label='S')\n",
    "plt.plot(infected_pop_norm, label='I')\n",
    "plt.plot(recovered_pop_norm, label='R')\n",
    "plt.legend()"
   ]
  },
  {
   "cell_type": "code",
   "execution_count": null,
   "metadata": {},
   "outputs": [],
   "source": []
  },
  {
   "cell_type": "code",
   "execution_count": null,
   "metadata": {},
   "outputs": [],
   "source": []
  }
 ],
 "metadata": {
  "kernelspec": {
   "display_name": "Python 3",
   "language": "python",
   "name": "python3"
  },
  "language_info": {
   "codemirror_mode": {
    "name": "ipython",
    "version": 3
   },
   "file_extension": ".py",
   "mimetype": "text/x-python",
   "name": "python",
   "nbconvert_exporter": "python",
   "pygments_lexer": "ipython3",
   "version": "3.8.1"
  }
 },
 "nbformat": 4,
 "nbformat_minor": 4
}
