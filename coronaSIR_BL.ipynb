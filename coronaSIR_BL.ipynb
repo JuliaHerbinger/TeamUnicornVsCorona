{
 "cells": [
  {
   "cell_type": "markdown",
   "metadata": {},
   "source": [
    "Some facts:\n",
    "- infections with symptoms roughly 50% of all infections https://www.nature.com/articles/d41586-020-00822-x"
   ]
  },
  {
   "cell_type": "code",
   "execution_count": 53,
   "metadata": {},
   "outputs": [],
   "source": [
    "import numpy as np\n",
    "import tqdm\n",
    "import matplotlib.pyplot as plt\n",
    "import pandas as pd\n",
    "import datetime\n",
    "import re"
   ]
  },
  {
   "cell_type": "markdown",
   "metadata": {},
   "source": [
    "## Building the data"
   ]
  },
  {
   "cell_type": "code",
   "execution_count": 54,
   "metadata": {},
   "outputs": [],
   "source": [
    "tot_pops = {'Bayern': 13076721,\n",
    "            'Schleswig-Holstein': 2896712,\n",
    "            'Hamburg': 1841179,\n",
    "            'Bremen': 82986,\n",
    "            'Nordrhein-Westfalen': 17932651,\n",
    "            'Hessen': 6265809,\n",
    "            'Rheinland-Pfalz': 4084844,\n",
    "            'Baden-Württemberg': 11069533,\n",
    "            'Saarland': 990509,\n",
    "            'Berlin': 3644826,\n",
    "            'Mecklenburg-Vorpommern': 1609675,\n",
    "            'Sachsen': 4077937,\n",
    "            'Sachsen-Anhalt': 2208321,\n",
    "            'Thüringen': 2143145,\n",
    "            'Niedersachsen': 7963000,\n",
    "            'Brandenburg': 2504000,\n",
    "           }"
   ]
  },
  {
   "cell_type": "markdown",
   "metadata": {},
   "source": [
    "Read aggregated data fro BL/age/sex"
   ]
  },
  {
   "cell_type": "code",
   "execution_count": 55,
   "metadata": {},
   "outputs": [
    {
     "data": {
      "text/html": [
       "<div>\n",
       "<style scoped>\n",
       "    .dataframe tbody tr th:only-of-type {\n",
       "        vertical-align: middle;\n",
       "    }\n",
       "\n",
       "    .dataframe tbody tr th {\n",
       "        vertical-align: top;\n",
       "    }\n",
       "\n",
       "    .dataframe thead th {\n",
       "        text-align: right;\n",
       "    }\n",
       "</style>\n",
       "<table border=\"1\" class=\"dataframe\">\n",
       "  <thead>\n",
       "    <tr style=\"text-align: right;\">\n",
       "      <th></th>\n",
       "      <th>Meldedatum</th>\n",
       "      <th>Bundesland</th>\n",
       "      <th>Geschlecht</th>\n",
       "      <th>Altersgruppe</th>\n",
       "      <th>AnzahlFall</th>\n",
       "      <th>AnzahlTodesfall</th>\n",
       "      <th>TotalAnzahl_BL_G_AG</th>\n",
       "      <th>TotalDeath_BL_G_AG</th>\n",
       "    </tr>\n",
       "  </thead>\n",
       "  <tbody>\n",
       "    <tr>\n",
       "      <th>0</th>\n",
       "      <td>2020-01-28</td>\n",
       "      <td>Bayern</td>\n",
       "      <td>M</td>\n",
       "      <td>A15-A34</td>\n",
       "      <td>1</td>\n",
       "      <td>0</td>\n",
       "      <td>1</td>\n",
       "      <td>0</td>\n",
       "    </tr>\n",
       "    <tr>\n",
       "      <th>2</th>\n",
       "      <td>2020-01-29</td>\n",
       "      <td>Bayern</td>\n",
       "      <td>M</td>\n",
       "      <td>A15-A34</td>\n",
       "      <td>1</td>\n",
       "      <td>0</td>\n",
       "      <td>2</td>\n",
       "      <td>0</td>\n",
       "    </tr>\n",
       "    <tr>\n",
       "      <th>6</th>\n",
       "      <td>2020-02-03</td>\n",
       "      <td>Bayern</td>\n",
       "      <td>M</td>\n",
       "      <td>A15-A34</td>\n",
       "      <td>1</td>\n",
       "      <td>0</td>\n",
       "      <td>3</td>\n",
       "      <td>0</td>\n",
       "    </tr>\n",
       "    <tr>\n",
       "      <th>35</th>\n",
       "      <td>2020-02-28</td>\n",
       "      <td>Bayern</td>\n",
       "      <td>M</td>\n",
       "      <td>A15-A34</td>\n",
       "      <td>1</td>\n",
       "      <td>0</td>\n",
       "      <td>4</td>\n",
       "      <td>0</td>\n",
       "    </tr>\n",
       "    <tr>\n",
       "      <th>102</th>\n",
       "      <td>2020-03-03</td>\n",
       "      <td>Bayern</td>\n",
       "      <td>M</td>\n",
       "      <td>A15-A34</td>\n",
       "      <td>1</td>\n",
       "      <td>0</td>\n",
       "      <td>5</td>\n",
       "      <td>0</td>\n",
       "    </tr>\n",
       "  </tbody>\n",
       "</table>\n",
       "</div>"
      ],
      "text/plain": [
       "    Meldedatum Bundesland Geschlecht Altersgruppe  AnzahlFall  \\\n",
       "0   2020-01-28     Bayern          M      A15-A34           1   \n",
       "2   2020-01-29     Bayern          M      A15-A34           1   \n",
       "6   2020-02-03     Bayern          M      A15-A34           1   \n",
       "35  2020-02-28     Bayern          M      A15-A34           1   \n",
       "102 2020-03-03     Bayern          M      A15-A34           1   \n",
       "\n",
       "     AnzahlTodesfall  TotalAnzahl_BL_G_AG  TotalDeath_BL_G_AG  \n",
       "0                  0                    1                   0  \n",
       "2                  0                    2                   0  \n",
       "6                  0                    3                   0  \n",
       "35                 0                    4                   0  \n",
       "102                0                    5                   0  "
      ]
     },
     "execution_count": 55,
     "metadata": {},
     "output_type": "execute_result"
    }
   ],
   "source": [
    "BL_df = pd.read_csv(\"daily_corona_data/aggregate_BL_G_AG.csv\", index_col=0)\n",
    "BL_df.Meldedatum = BL_df.Meldedatum.transform(lambda x: datetime.datetime.strptime(re.sub(\"T.*\", \"\", x), \"%Y-%m-%d\"))\n",
    "BL_df.head()"
   ]
  },
  {
   "cell_type": "markdown",
   "metadata": {},
   "source": [
    "How many BL? How many age groups?"
   ]
  },
  {
   "cell_type": "code",
   "execution_count": 56,
   "metadata": {},
   "outputs": [
    {
     "data": {
      "text/plain": [
       "array(['A15-A34', 'A35-A59', 'A00-A04', 'A60-A79', 'A05-A14', 'A80+'],\n",
       "      dtype=object)"
      ]
     },
     "execution_count": 56,
     "metadata": {},
     "output_type": "execute_result"
    }
   ],
   "source": [
    "age_groups = BL_df.Altersgruppe.unique()\n",
    "age_groups = age_groups[age_groups != \"unbekannt\"]\n",
    "n_age_groups = len(age_groups)\n",
    "age_groups"
   ]
  },
  {
   "cell_type": "code",
   "execution_count": 57,
   "metadata": {},
   "outputs": [
    {
     "data": {
      "text/plain": [
       "array(['Bayern', 'Niedersachsen', 'Baden-Württemberg',\n",
       "       'Nordrhein-Westfalen', 'Hessen', 'Rheinland-Pfalz',\n",
       "       'Schleswig-Holstein', 'Hamburg', 'Brandenburg', 'Bremen',\n",
       "       'Sachsen', 'Berlin', 'Mecklenburg-Vorpommern', 'Thüringen',\n",
       "       'Saarland', 'Sachsen-Anhalt'], dtype=object)"
      ]
     },
     "execution_count": 57,
     "metadata": {},
     "output_type": "execute_result"
    }
   ],
   "source": [
    "lander = BL_df.Bundesland.unique()\n",
    "lander = lander[lander != \"-nicht erhoben-\"]\n",
    "n_lander = len(lander)\n",
    "lander"
   ]
  },
  {
   "cell_type": "markdown",
   "metadata": {},
   "source": [
    "Pick numbers from last week"
   ]
  },
  {
   "cell_type": "code",
   "execution_count": 58,
   "metadata": {},
   "outputs": [
    {
     "data": {
      "text/plain": [
       "Timestamp('2020-03-13 00:00:00')"
      ]
     },
     "execution_count": 58,
     "metadata": {},
     "output_type": "execute_result"
    }
   ],
   "source": [
    "today = BL_df.Meldedatum.sort_values().iloc[-1]\n",
    "last_week = today - datetime.timedelta(days=7)\n",
    "last_week"
   ]
  },
  {
   "cell_type": "markdown",
   "metadata": {},
   "source": [
    "Let's use the following conventions:\n",
    "age groups (as in paper):\n",
    "    - 0 to 9\n",
    "    - 10 to 19\n",
    "    - 20 to 29\n",
    "    - 30 to 39\n",
    "    - 40 to 49\n",
    "    - 50 to 59\n",
    "    - 60 to 69\n",
    "    - 70 to 79\n",
    "    - 80+\n",
    "and further compartementalize according to sex.\n",
    "\n",
    "All rates are therefore given as 2D arrays of shape (9, 2) where the first axis is the age group and the second the gender."
   ]
  },
  {
   "cell_type": "code",
   "execution_count": 59,
   "metadata": {},
   "outputs": [],
   "source": [
    "#OD = np.random.randint(100,10000, (n_lander, n_lander, n_age_groups, 2))"
   ]
  },
  {
   "cell_type": "code",
   "execution_count": 60,
   "metadata": {},
   "outputs": [],
   "source": [
    "#OD = OD.sum(axis=3).sum(axis=2)\n",
    "# Fill matrix diagonally, no commuting between bundesländer\n",
    "OD = np.zeros((n_lander, n_lander))\n",
    "for idx, land in enumerate(lander):\n",
    "    OD[idx ,idx] = tot_pops[land]"
   ]
  },
  {
   "cell_type": "code",
   "execution_count": 61,
   "metadata": {},
   "outputs": [],
   "source": [
    "def split_groups(N):\n",
    "    split_points = np.random.choice(range(1,N), n_age_groups-1, replace = False)\n",
    "    split_points.sort()\n",
    "    age_groups = [split_points[0]]+[split_points[n]-split_points[n-1] for n in range(1,len(split_points))] + [N-split_points[-1]]\n",
    "    groups = [[np.random.choice(range(g), 1), g] for g in age_groups]\n",
    "    groups = [[int(a[0]),int(a[1]-a[0])] for a in groups]\n",
    "    return np.array(groups)"
   ]
  },
  {
   "cell_type": "code",
   "execution_count": 62,
   "metadata": {
    "scrolled": true
   },
   "outputs": [
    {
     "name": "stderr",
     "output_type": "stream",
     "text": [
      "C:\\Users\\Alessandro\\Documents\\Projects\\TeamUnicornVsCorona\\env\\lib\\site-packages\\ipykernel_launcher.py:5: TqdmDeprecationWarning: This function will be removed in tqdm==5.0.0\n",
      "Please use `tqdm.notebook.tqdm` instead of `tqdm.tqdm_notebook`\n",
      "  \"\"\"\n"
     ]
    },
    {
     "data": {
      "application/vnd.jupyter.widget-view+json": {
       "model_id": "d0d06b4f9b4c41a7a40c05ff2b60eba7",
       "version_major": 2,
       "version_minor": 0
      },
      "text/plain": [
       "HBox(children=(FloatProgress(value=0.0, max=16.0), HTML(value='')))"
      ]
     },
     "metadata": {},
     "output_type": "display_data"
    },
    {
     "name": "stdout",
     "output_type": "stream",
     "text": [
      "\n"
     ]
    }
   ],
   "source": [
    "# initialize the population vector from the origin-destination flow matrix\n",
    "N_k = np.abs(np.diagonal(OD) + OD.sum(axis=0) - OD.sum(axis=1)).astype(int)\n",
    "locs_len = len(N_k)                      # number of locations\n",
    "SIR = np.zeros(shape=(locs_len, n_age_groups, 2, 3)) # make a numpy array with 3 columns for keeping track of the S, I, R groups\n",
    "for i in tqdm.tqdm_notebook(range(locs_len)):\n",
    "    SIR[i,:,:,0] = split_groups(N_k[i])                      # initialize the S group with the respective populations"
   ]
  },
  {
   "cell_type": "markdown",
   "metadata": {},
   "source": [
    "Retrieve first infections"
   ]
  },
  {
   "cell_type": "code",
   "execution_count": 63,
   "metadata": {},
   "outputs": [],
   "source": [
    "for land_idx, land in enumerate(lander):\n",
    "    for age_group_idx, age_group in enumerate(age_groups):\n",
    "        for sex_idx, sex in enumerate([\"M\", \"W\"]):\n",
    "            infected = BL_df[(BL_df.Meldedatum == last_week) & (BL_df.Bundesland == land) & (BL_df.Altersgruppe == age_group) & (BL_df.Geschlecht == sex)].TotalAnzahl_BL_G_AG\n",
    "            if len(infected) > 0:\n",
    "                infected = infected.iloc[0]\n",
    "            else:\n",
    "                infected = 0\n",
    "            SIR[land_idx, age_group_idx, sex_idx, 1] = infected"
   ]
  },
  {
   "cell_type": "markdown",
   "metadata": {},
   "source": [
    "Retrieve deaths and approximate recovered"
   ]
  },
  {
   "cell_type": "code",
   "execution_count": 64,
   "metadata": {},
   "outputs": [],
   "source": [
    "for land_idx, land in enumerate(lander):\n",
    "    for age_group_idx, age_group in enumerate(age_groups):\n",
    "        for sex_idx, sex in enumerate([\"M\", \"W\"]):\n",
    "            dead = BL_df[(BL_df.Meldedatum == last_week) & (BL_df.Bundesland == land) & (BL_df.Altersgruppe == age_group) & (BL_df.Geschlecht == sex)].TotalDeath_BL_G_AG\n",
    "            if len(dead) > 0:\n",
    "                recovered = 100 * dead.iloc[0]\n",
    "            else:\n",
    "                recovered = 0\n",
    "            SIR[land_idx, age_group_idx, sex_idx, 2] = recovered"
   ]
  },
  {
   "cell_type": "markdown",
   "metadata": {},
   "source": [
    "Compute susceptible"
   ]
  },
  {
   "cell_type": "code",
   "execution_count": 65,
   "metadata": {},
   "outputs": [],
   "source": [
    "for land_idx, land in enumerate(lander):\n",
    "    for age_group_idx, age_group in enumerate(age_groups):\n",
    "        for sex_idx, sex in enumerate([\"M\", \"W\"]):\n",
    "            SIR[land_idx, age_group_idx, sex_idx, 0] = SIR[land_idx, age_group_idx, sex_idx, 0] - SIR[land_idx, age_group_idx, sex_idx, 1]"
   ]
  },
  {
   "cell_type": "code",
   "execution_count": 66,
   "metadata": {},
   "outputs": [],
   "source": [
    "#N_k = np.abs(np.diagonal(OD) + OD.sum(axis=0) - OD.sum(axis=1))\n",
    "#locs_len = len(N_k)                 # number of locations\n",
    "#SIR = np.zeros(shape=(locs_len, 3)) # make a numpy array with 3 columns for keeping track of the S, I, R groups\n",
    "#SIR[:,0] = N_k                      # initialize the S group with the respective populations\n",
    "#\n",
    "#first_infections = np.where(SIR[:, 0]<=thresh, SIR[:, 0]//20, 0)   # for demo purposes, randomly introduce infections\n",
    "#SIR[:, 0] = SIR[:, 0] - first_infections\n",
    "#SIR[:, 1] = SIR[:, 1] + first_infections                           # move infections to the I group\n",
    "#\n",
    "## row normalize the SIR matrix for keeping track of group proportions\n",
    "#row_sums = SIR.sum(axis=1)\n",
    "#SIR_n = SIR / row_sums[:, np.newaxis]"
   ]
  },
  {
   "cell_type": "code",
   "execution_count": 67,
   "metadata": {},
   "outputs": [],
   "source": [
    "# row normalize the SIR matrix for keeping track of group proportions\n",
    "row_sums = SIR.sum(axis=3).sum(axis=2).sum(axis=1)\n",
    "SIR_n = SIR / row_sums[:, np.newaxis, np.newaxis, np.newaxis]"
   ]
  },
  {
   "cell_type": "markdown",
   "metadata": {},
   "source": [
    "### initialize parameters"
   ]
  },
  {
   "cell_type": "code",
   "execution_count": 152,
   "metadata": {},
   "outputs": [],
   "source": [
    "beta = np.full((n_age_groups, 2), 0.16)\n",
    "gamma = np.full((n_age_groups, 2), 0.04)\n",
    "public_trans = 0.9        # alpha\n",
    "R0 = beta/gamma\n",
    "beta_vec = np.random.gamma(beta, 1/gamma, (locs_len, n_age_groups, 2))\n",
    "#beta_vec = np.full((locs_len, n_age_groups, 2), R0)\n",
    "gamma_vec = np.full((locs_len, n_age_groups, 2), gamma)\n",
    "public_trans_vec = np.full((locs_len, n_age_groups, 2), public_trans)"
   ]
  },
  {
   "cell_type": "code",
   "execution_count": 153,
   "metadata": {},
   "outputs": [
    {
     "data": {
      "text/plain": [
       "array([[4., 4.],\n",
       "       [4., 4.],\n",
       "       [4., 4.],\n",
       "       [4., 4.],\n",
       "       [4., 4.],\n",
       "       [4., 4.]])"
      ]
     },
     "execution_count": 153,
     "metadata": {},
     "output_type": "execute_result"
    }
   ],
   "source": [
    "R0"
   ]
  },
  {
   "cell_type": "code",
   "execution_count": 154,
   "metadata": {},
   "outputs": [],
   "source": [
    "# make copy of the SIR matrices \n",
    "SIR_sim = SIR.copy()\n",
    "SIR_nsim = SIR_n.copy()"
   ]
  },
  {
   "cell_type": "code",
   "execution_count": 155,
   "metadata": {
    "scrolled": true
   },
   "outputs": [
    {
     "name": "stdout",
     "output_type": "stream",
     "text": [
      "False\n"
     ]
    },
    {
     "name": "stderr",
     "output_type": "stream",
     "text": [
      "C:\\Users\\Alessandro\\Documents\\Projects\\TeamUnicornVsCorona\\env\\lib\\site-packages\\ipykernel_launcher.py:9: TqdmDeprecationWarning: This function will be removed in tqdm==5.0.0\n",
      "Please use `tqdm.notebook.tqdm` instead of `tqdm.tqdm_notebook`\n",
      "  if __name__ == '__main__':\n"
     ]
    },
    {
     "data": {
      "application/vnd.jupyter.widget-view+json": {
       "model_id": "1c943d3faed344e0a7b144420da19b0b",
       "version_major": 2,
       "version_minor": 0
      },
      "text/plain": [
       "HBox(children=(FloatProgress(value=0.0, max=60.0), HTML(value='')))"
      ]
     },
     "metadata": {},
     "output_type": "display_data"
    },
    {
     "name": "stdout",
     "output_type": "stream",
     "text": [
      "total infected inflow:  4136.0\n",
      "0.9999385438933354 5.922578892741146e-05 2.529085159007478e-05 82393747.99999999 82391848\n",
      "\n",
      "\n",
      "total infected inflow:  4398.0\n",
      "0.9999100099512028 8.539069950297852e-05 2.7659883147171242e-05 82393748.00000001 82391848\n",
      "\n",
      "\n",
      "total infected inflow:  6332.0\n",
      "0.9997117714969339 0.0002802135257915783 3.1075511127290384e-05 82393747.99999999 82391848\n",
      "\n",
      "\n",
      "total infected inflow:  20776.0\n",
      "0.9982367075854496 0.0017440688962442107 4.228405215895351e-05 82393747.99999999 82391848\n",
      "\n",
      "\n",
      "total infected inflow:  129330.0\n",
      "0.98805348458648 0.011857529139364132 0.00011204680800872195 82393748.00000001 82391848\n",
      "\n",
      "\n",
      "total infected inflow:  879271.0\n",
      "0.983085427544852 0.01635128501541768 0.0005863479735832872 82393748.00000001 82391848\n",
      "\n",
      "\n",
      "total infected inflow:  1212481.0\n",
      "0.9830407300990728 0.015741931060579983 0.0012403993741999942 82393747.99999999 82391848\n",
      "\n",
      "\n",
      "total infected inflow:  1167310.0\n",
      "0.9829560508654037 0.01519693305182581 0.001870076616623194 82393747.99999999 82391848\n",
      "\n",
      "\n",
      "total infected inflow:  1126889.0\n",
      "0.9827938475959869 0.014751258999169814 0.002477953938696227 82393748.00000001 82391848\n",
      "\n",
      "\n",
      "total infected inflow:  1093840.0\n",
      "0.9824853876675086 0.014469668567681239 0.003068004298663019 82393748.00000001 82391848\n",
      "\n",
      "\n",
      "total infected inflow:  1072961.0\n",
      "0.9819202934817254 0.014455976010757151 0.0036467910413702682 82393747.99999999 82391848\n",
      "\n",
      "\n",
      "total infected inflow:  1071944.0\n",
      "0.9809763059186642 0.014821724533388049 0.0042250300818005545 82393748.00000001 82391848\n",
      "\n",
      "\n",
      "total infected inflow:  1099066.0\n",
      "0.9796668907357236 0.015538270734993321 0.004817899063136076 82393748.00000001 82391848\n",
      "\n",
      "\n",
      "total infected inflow:  1152205.0\n",
      "0.9782858656893046 0.016297764952012534 0.005439429892535809 82393748.00000001 82391848\n",
      "\n",
      "\n",
      "total infected inflow:  1208527.0\n",
      "0.9768639774252715 0.01706774261796508 0.00609134049061631 82393748.00000001 82391848\n",
      "\n",
      "\n",
      "total infected inflow:  1265627.0\n",
      "0.974677924274646 0.018571086063872085 0.006774050195334914 82393748.00000001 82391848\n",
      "\n",
      "\n",
      "total infected inflow:  1377091.0\n",
      "0.9710965628455529 0.02140960405041006 0.007516893637889799 82393747.99999999 82391848\n",
      "\n",
      "\n",
      "total infected inflow:  1587565.0\n",
      "0.9655632942564218 0.026086488477524806 0.0083732777999062 82393748.00000001 82391848\n",
      "\n",
      "\n",
      "total infected inflow:  1934361.0\n",
      "0.9577670679379834 0.03283925525686226 0.009416737339007194 82393748.00000001 82391848\n",
      "\n",
      "\n",
      "total infected inflow:  2435095.0\n",
      "0.9481297517289826 0.0411630012555886 0.010730307549281684 82393748.00000001 82391848\n",
      "\n",
      "\n",
      "total infected inflow:  3052304.0\n",
      "0.938079299574762 0.04956693335958551 0.012376827599505228 82393747.99999999 82391848\n",
      "\n",
      "\n",
      "total infected inflow:  3675462.0\n",
      "0.9295734420586529 0.056090113541311194 0.014359504933888647 82393747.99999999 82391848\n",
      "\n",
      "\n",
      "total infected inflow:  4159159.0\n",
      "0.9234588096790692 0.05996114137924241 0.016603109475541097 82393747.99999999 82391848\n",
      "\n",
      "\n",
      "total infected inflow:  4446198.0\n",
      "0.9184252161660712 0.06259628923707085 0.019001555130710796 82393748.00000001 82391848\n",
      "\n",
      "\n",
      "total infected inflow:  4641606.0\n",
      "0.9129676175514944 0.06555003628216496 0.021505406700193627 82393748.00000001 82391848\n",
      "\n",
      "\n",
      "total infected inflow:  4860641.0\n",
      "0.9067408566124734 0.0691547957698991 0.024127408151480224 82393747.99999999 82391848\n",
      "\n",
      "\n",
      "total infected inflow:  5127929.0\n",
      "0.9003369730035538 0.07279248754802269 0.026893599982276185 82393747.99999999 82391848\n",
      "\n",
      "\n",
      "total infected inflow:  5397683.0\n",
      "0.8948383885463382 0.07537937250331751 0.0298052994841971 82393748.00000001 82391848\n",
      "\n",
      "\n",
      "total infected inflow:  5589512.0\n",
      "0.8909252820675203 0.07627730408200264 0.03282047438432979 82393747.99999999 82391848\n",
      "\n",
      "\n",
      "total infected inflow:  5656098.0\n",
      "0.8882942014429547 0.07585729254328819 0.0358715665476099 82393747.99999999 82391848\n",
      "\n",
      "\n",
      "total infected inflow:  5624953.0\n",
      "0.8862884255174706 0.07482877676704068 0.03890585824934143 82393747.99999999 82391848\n",
      "\n",
      "\n",
      "total infected inflow:  5548683.0\n",
      "0.8844955322060253 0.07362851900780433 0.04189900932002305 82393747.99999999 82391848\n",
      "\n",
      "\n",
      "total infected inflow:  5459680.0\n",
      "0.8827130534855814 0.07246585696793623 0.04484415008033523 82393747.99999999 82391848\n",
      "\n",
      "\n",
      "total infected inflow:  5373468.0\n",
      "0.8808146473851144 0.07146562878968565 0.04774278435905267 82393747.99999999 82391848\n",
      "\n",
      "\n",
      "total infected inflow:  5299292.0\n",
      "0.8787023682565667 0.07071928276664598 0.0506014095106401 82393747.99999999 82391848\n",
      "\n",
      "\n",
      "total infected inflow:  5243946.0\n",
      "0.8763070338074032 0.07028584590514372 0.053430180821305934 82393748.00000001 82391848\n",
      "\n",
      "\n",
      "total infected inflow:  5211797.0\n",
      "0.8736040061323185 0.07017743974402257 0.05624161465751168 82393747.99999999 82391848\n",
      "\n",
      "\n",
      "total infected inflow:  5203757.0\n",
      "0.8706299776196008 0.07034437066697947 0.05904871224727259 82393748.00000001 82391848\n",
      "\n",
      "\n",
      "total infected inflow:  5216121.0\n",
      "0.8674904169732071 0.07067015648669392 0.061862487073951776 82393747.99999999 82391848\n",
      "\n",
      "\n",
      "total infected inflow:  5240269.0\n",
      "0.8643472882188648 0.07098647898156861 0.06468929333341952 82393748.00000001 82391848\n",
      "\n",
      "\n",
      "total infected inflow:  5263715.0\n",
      "0.8613829687683695 0.07111133927280097 0.06752875249268227 82393747.99999999 82391848\n",
      "\n",
      "\n",
      "total infected inflow:  5272960.0\n",
      "0.8587510728343078 0.07089878163595054 0.0703732060635943 82393747.99999999 82391848\n",
      "\n",
      "\n",
      "total infected inflow:  5257194.0\n",
      "0.8565374410430354 0.07027646216178517 0.07320915732903233 82393748.00000001 82391848\n",
      "\n",
      "\n",
      "total infected inflow:  5211046.0\n",
      "0.8547504222004513 0.0692524225178979 0.07602021581550374 82393748.00000001 82391848\n",
      "\n",
      "\n",
      "total infected inflow:  5135109.0\n",
      "0.853339528685227 0.06789321913240613 0.07879031271621965 82393747.99999999 82391848\n",
      "\n",
      "\n",
      "total infected inflow:  5034322.0\n",
      "0.8522256621957702 0.06629135685656659 0.0815060414815159 82393747.99999999 82391848\n",
      "\n",
      "\n",
      "total infected inflow:  4915542.0\n",
      "0.8513263287995093 0.06453903597856508 0.08415769575577857 82393748.00000001 82391848\n",
      "\n",
      "\n",
      "total infected inflow:  4785609.0\n",
      "0.8505696683730035 0.06271413496592806 0.08673925719492116 82393747.99999999 82391848\n",
      "\n",
      "\n",
      "total infected inflow:  4650292.0\n",
      "0.8498991144279298 0.0608761235123648 0.0892478225935583 82393748.00000001 82391848\n",
      "\n",
      "\n",
      "total infected inflow:  4514003.0\n",
      "0.8492729721403212 0.05906722085947875 0.0916828675340529 82393748.00000001 82391848\n",
      "\n",
      "\n",
      "total infected inflow:  4379875.0\n",
      "0.8486621538566165 0.05731535030880428 0.09404555636843204 82393747.99999999 82391848\n",
      "\n",
      "\n",
      "total infected inflow:  4249969.0\n",
      "0.8480478385290735 0.055637051623995064 0.09633817038078421 82393747.99999999 82391848\n",
      "\n",
      "\n",
      "total infected inflow:  4125523.0\n",
      "0.8474195569545416 0.05403985113356718 0.09856365244574401 82393747.99999999 82391848\n",
      "\n",
      "\n",
      "total infected inflow:  4007088.0\n",
      "0.8467737459402629 0.05252406810250321 0.1007252464910867 82393747.99999999 82391848\n",
      "\n",
      "\n",
      "total infected inflow:  3894700.0\n",
      "0.8461124563093612 0.05108439500930482 0.10282620921518681 82393747.99999999 82391848\n",
      "\n",
      "\n",
      "total infected inflow:  3787937.0\n",
      "0.8454420011169822 0.04971147440131147 0.104869585015559 82393747.99999999 82391848\n",
      "\n",
      "\n",
      "total infected inflow:  3686136.0\n",
      "0.8447713307045219 0.048393685837719316 0.10685804399161146 82393747.99999999 82391848\n",
      "\n",
      "\n",
      "total infected inflow:  3588418.0\n",
      "0.8441102422396478 0.04711902686908471 0.10879379142512025 82393747.99999999 82391848\n",
      "\n",
      "\n",
      "total infected inflow:  3493906.0\n",
      "0.8434676232364248 0.0458768847975444 0.11067855249988362 82393747.99999999 82391848\n",
      "\n",
      "\n",
      "total infected inflow:  3401800.0\n",
      "0.8428500626435469 0.04465936999852043 0.11251362789178539 82393747.99999999 82391848\n",
      "\n",
      "\n",
      "\n"
     ]
    }
   ],
   "source": [
    "# run model\n",
    "print(SIR_sim.sum(axis=0).sum() == N_k.sum())\n",
    "infected_pop_norm = []\n",
    "susceptible_pop_norm = []\n",
    "recovered_pop_norm = []\n",
    "n_days = 60\n",
    "days = [last_week + datetime.timedelta(j) for j in range(n_days)]\n",
    "days = [d.to_datetime64() for d in days]\n",
    "for time_step in tqdm.tqdm_notebook(range(n_days)):\n",
    "    infected_mat = np.array([SIR_nsim[:,:,:,1],]*locs_len)#.transpose()\n",
    "    OD_infected = np.round(OD[:,:,np.newaxis, np.newaxis]*infected_mat)\n",
    "    inflow_infected = OD_infected.sum(axis=1)\n",
    "    inflow_infected = np.round(inflow_infected * public_trans_vec)\n",
    "    print('total infected inflow: ', inflow_infected.sum())\n",
    "    new_infect = beta_vec*SIR_sim[:,:,:, 0]*inflow_infected/(N_k + OD.sum(axis=0))[:,np.newaxis, np.newaxis]\n",
    "    new_recovered = gamma_vec*SIR_sim[:,:,:, 1]\n",
    "    new_infect = np.where(new_infect>SIR_sim[:,:,:, 0], SIR_sim[:,:,:, 0], new_infect)\n",
    "    SIR_sim[:,:,:, 0] = SIR_sim[:,:,:, 0] - new_infect\n",
    "    SIR_sim[:,:,:, 1] = SIR_sim[:,:,:, 1] + new_infect - new_recovered\n",
    "    SIR_sim[:,:,:, 2] = SIR_sim[:,:,:, 2] + new_recovered\n",
    "    SIR_sim = np.where(SIR_sim<0,0,SIR_sim)\n",
    "    # recompute the normalized SIR matrix\n",
    "    row_sums = SIR_sim.sum(axis=3).sum(axis=2).sum(axis=1)\n",
    "    SIR_nsim = SIR_sim / row_sums[:, np.newaxis, np.newaxis, np.newaxis]\n",
    "    S = SIR_sim[:,:,:,0].sum()/N_k.sum()\n",
    "    I = SIR_sim[:,:,:,1].sum()/N_k.sum()\n",
    "    R = SIR_sim[:,:,:,2].sum()/N_k.sum()\n",
    "    print(S, I, R, (S+I+R)*N_k.sum(), N_k.sum())\n",
    "    print('\\n')\n",
    "    infected_pop_norm.append(I)\n",
    "    susceptible_pop_norm.append(S)\n",
    "    recovered_pop_norm.append(R)"
   ]
  },
  {
   "cell_type": "code",
   "execution_count": 156,
   "metadata": {},
   "outputs": [
    {
     "data": {
      "text/plain": [
       "<matplotlib.legend.Legend at 0x20a29f70d88>"
      ]
     },
     "execution_count": 156,
     "metadata": {},
     "output_type": "execute_result"
    },
    {
     "data": {
      "image/png": "[encoded data removed]",
      "text/plain": [
       "<Figure size 432x288 with 1 Axes>"
      ]
     },
     "metadata": {
      "needs_background": "light"
     },
     "output_type": "display_data"
    }
   ],
   "source": [
    "plt.plot(susceptible_pop_norm, label='S')\n",
    "plt.plot(infected_pop_norm, label='I')\n",
    "plt.plot(recovered_pop_norm, label='R')\n",
    "plt.legend()"
   ]
  },
  {
   "cell_type": "code",
   "execution_count": 157,
   "metadata": {},
   "outputs": [
    {
     "data": {
      "text/html": [
       "<div>\n",
       "<style scoped>\n",
       "    .dataframe tbody tr th:only-of-type {\n",
       "        vertical-align: middle;\n",
       "    }\n",
       "\n",
       "    .dataframe tbody tr th {\n",
       "        vertical-align: top;\n",
       "    }\n",
       "\n",
       "    .dataframe thead th {\n",
       "        text-align: right;\n",
       "    }\n",
       "</style>\n",
       "<table border=\"1\" class=\"dataframe\">\n",
       "  <thead>\n",
       "    <tr style=\"text-align: right;\">\n",
       "      <th></th>\n",
       "      <th>AnzahlFall</th>\n",
       "      <th>AnzahlTodesfall</th>\n",
       "      <th>TotalAnzahl_BL_G_AG</th>\n",
       "      <th>TotalDeath_BL_G_AG</th>\n",
       "    </tr>\n",
       "    <tr>\n",
       "      <th>Meldedatum</th>\n",
       "      <th></th>\n",
       "      <th></th>\n",
       "      <th></th>\n",
       "      <th></th>\n",
       "    </tr>\n",
       "  </thead>\n",
       "  <tbody>\n",
       "    <tr>\n",
       "      <th>2020-03-13</th>\n",
       "      <td>1317</td>\n",
       "      <td>4</td>\n",
       "      <td>4610</td>\n",
       "      <td>19</td>\n",
       "    </tr>\n",
       "    <tr>\n",
       "      <th>2020-03-14</th>\n",
       "      <td>1179</td>\n",
       "      <td>2</td>\n",
       "      <td>5695</td>\n",
       "      <td>21</td>\n",
       "    </tr>\n",
       "    <tr>\n",
       "      <th>2020-03-15</th>\n",
       "      <td>837</td>\n",
       "      <td>2</td>\n",
       "      <td>6393</td>\n",
       "      <td>20</td>\n",
       "    </tr>\n",
       "    <tr>\n",
       "      <th>2020-03-16</th>\n",
       "      <td>1776</td>\n",
       "      <td>2</td>\n",
       "      <td>8380</td>\n",
       "      <td>25</td>\n",
       "    </tr>\n",
       "    <tr>\n",
       "      <th>2020-03-17</th>\n",
       "      <td>2519</td>\n",
       "      <td>5</td>\n",
       "      <td>10917</td>\n",
       "      <td>30</td>\n",
       "    </tr>\n",
       "    <tr>\n",
       "      <th>2020-03-18</th>\n",
       "      <td>2689</td>\n",
       "      <td>7</td>\n",
       "      <td>13513</td>\n",
       "      <td>37</td>\n",
       "    </tr>\n",
       "    <tr>\n",
       "      <th>2020-03-19</th>\n",
       "      <td>1983</td>\n",
       "      <td>6</td>\n",
       "      <td>13149</td>\n",
       "      <td>37</td>\n",
       "    </tr>\n",
       "    <tr>\n",
       "      <th>2020-03-20</th>\n",
       "      <td>964</td>\n",
       "      <td>4</td>\n",
       "      <td>12270</td>\n",
       "      <td>41</td>\n",
       "    </tr>\n",
       "  </tbody>\n",
       "</table>\n",
       "</div>"
      ],
      "text/plain": [
       "            AnzahlFall  AnzahlTodesfall  TotalAnzahl_BL_G_AG  \\\n",
       "Meldedatum                                                     \n",
       "2020-03-13        1317                4                 4610   \n",
       "2020-03-14        1179                2                 5695   \n",
       "2020-03-15         837                2                 6393   \n",
       "2020-03-16        1776                2                 8380   \n",
       "2020-03-17        2519                5                10917   \n",
       "2020-03-18        2689                7                13513   \n",
       "2020-03-19        1983                6                13149   \n",
       "2020-03-20         964                4                12270   \n",
       "\n",
       "            TotalDeath_BL_G_AG  \n",
       "Meldedatum                      \n",
       "2020-03-13                  19  \n",
       "2020-03-14                  21  \n",
       "2020-03-15                  20  \n",
       "2020-03-16                  25  \n",
       "2020-03-17                  30  \n",
       "2020-03-18                  37  \n",
       "2020-03-19                  37  \n",
       "2020-03-20                  41  "
      ]
     },
     "execution_count": 157,
     "metadata": {},
     "output_type": "execute_result"
    }
   ],
   "source": [
    "agg_df = BL_df.groupby(\"Meldedatum\").sum()\n",
    "last_week_df = agg_df[agg_df.index >= last_week]\n",
    "last_week_df"
   ]
  },
  {
   "cell_type": "code",
   "execution_count": 158,
   "metadata": {},
   "outputs": [
    {
     "data": {
      "text/plain": [
       "<matplotlib.legend.Legend at 0x20a29ff6888>"
      ]
     },
     "execution_count": 158,
     "metadata": {},
     "output_type": "execute_result"
    },
    {
     "data": {
      "image/png": "[encoded data removed]",
      "text/plain": [
       "<Figure size 432x288 with 1 Axes>"
      ]
     },
     "metadata": {
      "needs_background": "light"
     },
     "output_type": "display_data"
    }
   ],
   "source": [
    "plt.plot(last_week_df.index, \"TotalAnzahl_BL_G_AG\", data=last_week_df, label=\"real_I\")\n",
    "plt.plot(np.array(days)[:8], np.array(infected_pop_norm)[:8] * 70000000, label='I')\n",
    "plt.plot(np.array(days)[:8], np.array(recovered_pop_norm)[:8] * 70000000, label='R')\n",
    "plt.legend()"
   ]
  }
 ],
 "metadata": {
  "kernelspec": {
   "display_name": "Python [conda env:env]",
   "language": "python",
   "name": "conda-env-env-py"
  },
  "language_info": {
   "codemirror_mode": {
    "name": "ipython",
    "version": 3
   },
   "file_extension": ".py",
   "mimetype": "text/x-python",
   "name": "python",
   "nbconvert_exporter": "python",
   "pygments_lexer": "ipython3",
   "version": "3.7.6"
  }
 },
 "nbformat": 4,
 "nbformat_minor": 4
}
