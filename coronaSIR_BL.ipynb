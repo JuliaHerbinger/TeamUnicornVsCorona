{
 "cells": [
  {
   "cell_type": "markdown",
   "metadata": {},
   "source": [
    "Some facts:\n",
    "- infections with symptoms roughly 50% of all infections https://www.nature.com/articles/d41586-020-00822-x"
   ]
  },
  {
   "cell_type": "code",
   "execution_count": 23,
   "metadata": {},
   "outputs": [],
   "source": [
    "import numpy as np\n",
    "import tqdm\n",
    "import matplotlib.pyplot as plt\n",
    "import pandas as pd\n",
    "import datetime\n",
    "import re"
   ]
  },
  {
   "cell_type": "markdown",
   "metadata": {},
   "source": [
    "## Building the data"
   ]
  },
  {
   "cell_type": "code",
   "execution_count": 226,
   "metadata": {},
   "outputs": [],
   "source": [
    "tot_pops = {'Bayern': 13076721,\n",
    "            'Schleswig-Holstein': 2896712,\n",
    "            'Hamburg': 1841179,\n",
    "            'Bremen': 82986,\n",
    "            'Nordrhein-Westfalen': 17932651,\n",
    "            'Hessen': 6265809,\n",
    "            'Rheinland-Pfalz': 4084844,\n",
    "            'Baden-Württemberg': 11069533,\n",
    "            'Saarland': 990509,\n",
    "            'Berlin': 3644826,\n",
    "            'Mecklenburg-Vorpommern': 1609675,\n",
    "            'Sachsen': 4077937,\n",
    "            'Sachsen-Anhalt': 2208321,\n",
    "            'Thüringen': 2143145,\n",
    "            'Niedersachsen': 7963000,\n",
    "            'Brandenburg': 2504000,\n",
    "           }"
   ]
  },
  {
   "cell_type": "markdown",
   "metadata": {},
   "source": [
    "Read aggregated data fro BL/age/sex"
   ]
  },
  {
   "cell_type": "code",
   "execution_count": 227,
   "metadata": {},
   "outputs": [
    {
     "data": {
      "text/html": [
       "<div>\n",
       "<style scoped>\n",
       "    .dataframe tbody tr th:only-of-type {\n",
       "        vertical-align: middle;\n",
       "    }\n",
       "\n",
       "    .dataframe tbody tr th {\n",
       "        vertical-align: top;\n",
       "    }\n",
       "\n",
       "    .dataframe thead th {\n",
       "        text-align: right;\n",
       "    }\n",
       "</style>\n",
       "<table border=\"1\" class=\"dataframe\">\n",
       "  <thead>\n",
       "    <tr style=\"text-align: right;\">\n",
       "      <th></th>\n",
       "      <th>Meldedatum</th>\n",
       "      <th>Bundesland</th>\n",
       "      <th>Geschlecht</th>\n",
       "      <th>Altersgruppe</th>\n",
       "      <th>AnzahlFall</th>\n",
       "      <th>AnzahlTodesfall</th>\n",
       "      <th>TotalAnzahl_BL_G_AG</th>\n",
       "      <th>TotalDeath_BL_G_AG</th>\n",
       "    </tr>\n",
       "  </thead>\n",
       "  <tbody>\n",
       "    <tr>\n",
       "      <th>0</th>\n",
       "      <td>2020-01-28</td>\n",
       "      <td>Bayern</td>\n",
       "      <td>M</td>\n",
       "      <td>A15-A34</td>\n",
       "      <td>1</td>\n",
       "      <td>0</td>\n",
       "      <td>1</td>\n",
       "      <td>0</td>\n",
       "    </tr>\n",
       "    <tr>\n",
       "      <th>2</th>\n",
       "      <td>2020-01-29</td>\n",
       "      <td>Bayern</td>\n",
       "      <td>M</td>\n",
       "      <td>A15-A34</td>\n",
       "      <td>1</td>\n",
       "      <td>0</td>\n",
       "      <td>2</td>\n",
       "      <td>0</td>\n",
       "    </tr>\n",
       "    <tr>\n",
       "      <th>6</th>\n",
       "      <td>2020-02-03</td>\n",
       "      <td>Bayern</td>\n",
       "      <td>M</td>\n",
       "      <td>A15-A34</td>\n",
       "      <td>1</td>\n",
       "      <td>0</td>\n",
       "      <td>3</td>\n",
       "      <td>0</td>\n",
       "    </tr>\n",
       "    <tr>\n",
       "      <th>35</th>\n",
       "      <td>2020-02-28</td>\n",
       "      <td>Bayern</td>\n",
       "      <td>M</td>\n",
       "      <td>A15-A34</td>\n",
       "      <td>1</td>\n",
       "      <td>0</td>\n",
       "      <td>4</td>\n",
       "      <td>0</td>\n",
       "    </tr>\n",
       "    <tr>\n",
       "      <th>102</th>\n",
       "      <td>2020-03-03</td>\n",
       "      <td>Bayern</td>\n",
       "      <td>M</td>\n",
       "      <td>A15-A34</td>\n",
       "      <td>1</td>\n",
       "      <td>0</td>\n",
       "      <td>5</td>\n",
       "      <td>0</td>\n",
       "    </tr>\n",
       "  </tbody>\n",
       "</table>\n",
       "</div>"
      ],
      "text/plain": [
       "    Meldedatum Bundesland Geschlecht Altersgruppe  AnzahlFall  \\\n",
       "0   2020-01-28     Bayern          M      A15-A34           1   \n",
       "2   2020-01-29     Bayern          M      A15-A34           1   \n",
       "6   2020-02-03     Bayern          M      A15-A34           1   \n",
       "35  2020-02-28     Bayern          M      A15-A34           1   \n",
       "102 2020-03-03     Bayern          M      A15-A34           1   \n",
       "\n",
       "     AnzahlTodesfall  TotalAnzahl_BL_G_AG  TotalDeath_BL_G_AG  \n",
       "0                  0                    1                   0  \n",
       "2                  0                    2                   0  \n",
       "6                  0                    3                   0  \n",
       "35                 0                    4                   0  \n",
       "102                0                    5                   0  "
      ]
     },
     "execution_count": 227,
     "metadata": {},
     "output_type": "execute_result"
    }
   ],
   "source": [
    "BL_df = pd.read_csv(\"daily_corona_data/aggregate_BL_G_AG.csv\", index_col=0)\n",
    "BL_df.Meldedatum = BL_df.Meldedatum.transform(lambda x: datetime.datetime.strptime(re.sub(\"T.*\", \"\", x), \"%Y-%m-%d\"))\n",
    "BL_df.head()"
   ]
  },
  {
   "cell_type": "markdown",
   "metadata": {},
   "source": [
    "How many BL? How many age groups?"
   ]
  },
  {
   "cell_type": "code",
   "execution_count": 228,
   "metadata": {},
   "outputs": [
    {
     "data": {
      "text/plain": [
       "array(['A15-A34', 'A35-A59', 'A00-A04', 'A60-A79', 'A05-A14', 'A80+'],\n",
       "      dtype=object)"
      ]
     },
     "execution_count": 228,
     "metadata": {},
     "output_type": "execute_result"
    }
   ],
   "source": [
    "age_groups = BL_df.Altersgruppe.unique()\n",
    "age_groups = age_groups[age_groups != \"unbekannt\"]\n",
    "n_age_groups = len(age_groups)\n",
    "age_groups"
   ]
  },
  {
   "cell_type": "code",
   "execution_count": 229,
   "metadata": {},
   "outputs": [
    {
     "data": {
      "text/plain": [
       "array(['Bayern', 'Niedersachsen', 'Baden-Württemberg',\n",
       "       'Nordrhein-Westfalen', 'Hessen', 'Rheinland-Pfalz',\n",
       "       'Schleswig-Holstein', 'Hamburg', 'Brandenburg', 'Bremen',\n",
       "       'Sachsen', 'Berlin', 'Mecklenburg-Vorpommern', 'Thüringen',\n",
       "       'Saarland', 'Sachsen-Anhalt'], dtype=object)"
      ]
     },
     "execution_count": 229,
     "metadata": {},
     "output_type": "execute_result"
    }
   ],
   "source": [
    "lander = BL_df.Bundesland.unique()\n",
    "lander = lander[lander != \"-nicht erhoben-\"]\n",
    "n_lander = len(lander)\n",
    "lander"
   ]
  },
  {
   "cell_type": "markdown",
   "metadata": {},
   "source": [
    "Pick numbers from last week"
   ]
  },
  {
   "cell_type": "code",
   "execution_count": 230,
   "metadata": {},
   "outputs": [
    {
     "data": {
      "text/plain": [
       "Timestamp('2020-03-13 00:00:00')"
      ]
     },
     "execution_count": 230,
     "metadata": {},
     "output_type": "execute_result"
    }
   ],
   "source": [
    "today = BL_df.Meldedatum.sort_values().iloc[-1]\n",
    "last_week = today - datetime.timedelta(days=7)\n",
    "last_week"
   ]
  },
  {
   "cell_type": "markdown",
   "metadata": {},
   "source": [
    "Let's use the following conventions:\n",
    "age groups (as in paper):\n",
    "    - 0 to 9\n",
    "    - 10 to 19\n",
    "    - 20 to 29\n",
    "    - 30 to 39\n",
    "    - 40 to 49\n",
    "    - 50 to 59\n",
    "    - 60 to 69\n",
    "    - 70 to 79\n",
    "    - 80+\n",
    "and further compartementalize according to sex.\n",
    "\n",
    "All rates are therefore given as 2D arrays of shape (9, 2) where the first axis is the age group and the second the gender."
   ]
  },
  {
   "cell_type": "code",
   "execution_count": 231,
   "metadata": {},
   "outputs": [],
   "source": [
    "#OD = np.random.randint(100,10000, (n_lander, n_lander, n_age_groups, 2))"
   ]
  },
  {
   "cell_type": "code",
   "execution_count": 232,
   "metadata": {},
   "outputs": [],
   "source": [
    "#OD = OD.sum(axis=3).sum(axis=2)\n",
    "# Fill matrix diagonally, no commuting between bundesländer\n",
    "OD = np.zeros((n_lander, n_lander))\n",
    "for idx, land in enumerate(lander):\n",
    "    OD[idx ,idx] = tot_pops[land]"
   ]
  },
  {
   "cell_type": "code",
   "execution_count": 233,
   "metadata": {},
   "outputs": [],
   "source": [
    "def split_groups(N):\n",
    "    split_points = np.random.choice(range(1,N), n_age_groups-1, replace = False)\n",
    "    split_points.sort()\n",
    "    age_groups = [split_points[0]]+[split_points[n]-split_points[n-1] for n in range(1,len(split_points))] + [N-split_points[-1]]\n",
    "    groups = [[np.random.choice(range(g), 1), g] for g in age_groups]\n",
    "    groups = [[int(a[0]),int(a[1]-a[0])] for a in groups]\n",
    "    return np.array(groups)"
   ]
  },
  {
   "cell_type": "code",
   "execution_count": 234,
   "metadata": {
    "scrolled": true
   },
   "outputs": [
    {
     "name": "stderr",
     "output_type": "stream",
     "text": [
      "<ipython-input-234-00b7abc21024>:5: TqdmDeprecationWarning: This function will be removed in tqdm==5.0.0\n",
      "Please use `tqdm.notebook.tqdm` instead of `tqdm.tqdm_notebook`\n",
      "  for i in tqdm.tqdm_notebook(range(locs_len)):\n"
     ]
    },
    {
     "data": {
      "application/vnd.jupyter.widget-view+json": {
       "model_id": "8772929441d14122b0ab9a4f22c6bb01",
       "version_major": 2,
       "version_minor": 0
      },
      "text/plain": [
       "HBox(children=(FloatProgress(value=0.0, max=16.0), HTML(value='')))"
      ]
     },
     "metadata": {},
     "output_type": "display_data"
    },
    {
     "name": "stdout",
     "output_type": "stream",
     "text": [
      "\n"
     ]
    }
   ],
   "source": [
    "# initialize the population vector from the origin-destination flow matrix\n",
    "N_k = np.abs(np.diagonal(OD) + OD.sum(axis=0) - OD.sum(axis=1)).astype(int)\n",
    "locs_len = len(N_k)                      # number of locations\n",
    "SIR = np.zeros(shape=(locs_len, n_age_groups, 2, 3)) # make a numpy array with 3 columns for keeping track of the S, I, R groups\n",
    "for i in tqdm.tqdm_notebook(range(locs_len)):\n",
    "    SIR[i,:,:,0] = split_groups(N_k[i])                      # initialize the S group with the respective populations"
   ]
  },
  {
   "cell_type": "markdown",
   "metadata": {},
   "source": [
    "Retrieve first infections"
   ]
  },
  {
   "cell_type": "code",
   "execution_count": 235,
   "metadata": {},
   "outputs": [],
   "source": [
    "for land_idx, land in enumerate(lander):\n",
    "    for age_group_idx, age_group in enumerate(age_groups):\n",
    "        for sex_idx, sex in enumerate([\"M\", \"W\"]):\n",
    "            infected = BL_df[(BL_df.Meldedatum == last_week) & (BL_df.Bundesland == land) & (BL_df.Altersgruppe == age_group) & (BL_df.Geschlecht == sex)].TotalAnzahl_BL_G_AG\n",
    "            if len(infected) > 0:\n",
    "                infected = infected.iloc[0]\n",
    "            else:\n",
    "                infected = 0\n",
    "            SIR[land_idx, age_group_idx, sex_idx, 1] = infected"
   ]
  },
  {
   "cell_type": "markdown",
   "metadata": {},
   "source": [
    "Retrieve deaths and approximate recovered"
   ]
  },
  {
   "cell_type": "code",
   "execution_count": 236,
   "metadata": {},
   "outputs": [],
   "source": [
    "for land_idx, land in enumerate(lander):\n",
    "    for age_group_idx, age_group in enumerate(age_groups):\n",
    "        for sex_idx, sex in enumerate([\"M\", \"W\"]):\n",
    "            dead = BL_df[(BL_df.Meldedatum == last_week) & (BL_df.Bundesland == land) & (BL_df.Altersgruppe == age_group) & (BL_df.Geschlecht == sex)].TotalDeath_BL_G_AG\n",
    "            if len(dead) > 0:\n",
    "                recovered = 100 * dead.iloc[0]\n",
    "            else:\n",
    "                recovered = 0\n",
    "            SIR[land_idx, age_group_idx, sex_idx, 2] = recovered"
   ]
  },
  {
   "cell_type": "markdown",
   "metadata": {},
   "source": [
    "Compute susceptible"
   ]
  },
  {
   "cell_type": "code",
   "execution_count": 237,
   "metadata": {},
   "outputs": [],
   "source": [
    "for land_idx, land in enumerate(lander):\n",
    "    for age_group_idx, age_group in enumerate(age_groups):\n",
    "        for sex_idx, sex in enumerate([\"M\", \"W\"]):\n",
    "            SIR[land_idx, age_group_idx, sex_idx, 0] = SIR[land_idx, age_group_idx, sex_idx, 0] - SIR[land_idx, age_group_idx, sex_idx, 1]"
   ]
  },
  {
   "cell_type": "code",
   "execution_count": 238,
   "metadata": {},
   "outputs": [],
   "source": [
    "#N_k = np.abs(np.diagonal(OD) + OD.sum(axis=0) - OD.sum(axis=1))\n",
    "#locs_len = len(N_k)                 # number of locations\n",
    "#SIR = np.zeros(shape=(locs_len, 3)) # make a numpy array with 3 columns for keeping track of the S, I, R groups\n",
    "#SIR[:,0] = N_k                      # initialize the S group with the respective populations\n",
    "#\n",
    "#first_infections = np.where(SIR[:, 0]<=thresh, SIR[:, 0]//20, 0)   # for demo purposes, randomly introduce infections\n",
    "#SIR[:, 0] = SIR[:, 0] - first_infections\n",
    "#SIR[:, 1] = SIR[:, 1] + first_infections                           # move infections to the I group\n",
    "#\n",
    "## row normalize the SIR matrix for keeping track of group proportions\n",
    "#row_sums = SIR.sum(axis=1)\n",
    "#SIR_n = SIR / row_sums[:, np.newaxis]"
   ]
  },
  {
   "cell_type": "code",
   "execution_count": 239,
   "metadata": {},
   "outputs": [],
   "source": [
    "# row normalize the SIR matrix for keeping track of group proportions\n",
    "row_sums = SIR.sum(axis=3).sum(axis=2).sum(axis=1)\n",
    "SIR_n = SIR / row_sums[:, np.newaxis, np.newaxis, np.newaxis]"
   ]
  },
  {
   "cell_type": "markdown",
   "metadata": {},
   "source": [
    "### initialize parameters"
   ]
  },
  {
   "cell_type": "code",
   "execution_count": 240,
   "metadata": {},
   "outputs": [],
   "source": [
    "beta = np.full((n_age_groups, 2), 0.16)\n",
    "gamma = np.full((n_age_groups, 2), 0.04)\n",
    "public_trans = [0.7]*4+[0.01]*60        # alpha\n",
    "R0 = beta/gamma\n",
    "beta_vec = np.random.gamma(beta, 1/gamma, (locs_len, n_age_groups, 2))\n",
    "#beta_vec = np.full((locs_len, n_age_groups, 2), R0)\n",
    "gamma_vec = np.full((locs_len, n_age_groups, 2), gamma)\n",
    "public_trans_vec = [np.full((locs_len, n_age_groups, 2), alpha) for alpha in public_trans]"
   ]
  },
  {
   "cell_type": "code",
   "execution_count": 241,
   "metadata": {},
   "outputs": [
    {
     "data": {
      "text/plain": [
       "array([[4., 4.],\n",
       "       [4., 4.],\n",
       "       [4., 4.],\n",
       "       [4., 4.],\n",
       "       [4., 4.],\n",
       "       [4., 4.]])"
      ]
     },
     "execution_count": 241,
     "metadata": {},
     "output_type": "execute_result"
    }
   ],
   "source": [
    "R0"
   ]
  },
  {
   "cell_type": "code",
   "execution_count": 242,
   "metadata": {},
   "outputs": [],
   "source": [
    "# make copy of the SIR matrices \n",
    "SIR_sim = SIR.copy()\n",
    "SIR_nsim = SIR_n.copy()"
   ]
  },
  {
   "cell_type": "code",
   "execution_count": 243,
   "metadata": {
    "scrolled": true
   },
   "outputs": [
    {
     "name": "stdout",
     "output_type": "stream",
     "text": [
      "False\n"
     ]
    },
    {
     "name": "stderr",
     "output_type": "stream",
     "text": [
      "<ipython-input-243-674f7dbf5695>:9: TqdmDeprecationWarning: This function will be removed in tqdm==5.0.0\n",
      "Please use `tqdm.notebook.tqdm` instead of `tqdm.tqdm_notebook`\n",
      "  for time_step in tqdm.tqdm_notebook(range(n_days)):\n"
     ]
    },
    {
     "data": {
      "application/vnd.jupyter.widget-view+json": {
       "model_id": "c188f56ec872412385af28fc30e0f472",
       "version_major": 2,
       "version_minor": 0
      },
      "text/plain": [
       "HBox(children=(FloatProgress(value=0.0, max=20.0), HTML(value='')))"
      ]
     },
     "metadata": {},
     "output_type": "display_data"
    },
    {
     "name": "stdout",
     "output_type": "stream",
     "text": [
      "total infected inflow:  3216.0\n",
      "0.9999395073653656 5.826231689714229e-05 2.529085159007478e-05 82393747.99999999 82391848\n",
      "\n",
      "\n",
      "total infected inflow:  3362.0\n",
      "0.9999269391381796 6.850005140722193e-05 2.7621344265960478e-05 82393748.00000001 82391848\n",
      "\n",
      "\n",
      "total infected inflow:  3951.0\n",
      "0.999888228277281 0.00010447091024973502 3.036134632224936e-05 82393748.00000001 82391848\n",
      "\n",
      "\n",
      "total infected inflow:  6020.0\n",
      "0.9997583065997485 0.00023021375137202718 3.4540182732238755e-05 82393747.99999999 82391848\n",
      "\n",
      "\n",
      "total infected inflow:  179.0\n",
      "0.9997516658683856 0.00022764593268002228 4.3748732787119845e-05 82393747.99999999 82391848\n",
      "\n",
      "\n",
      "total infected inflow:  176.0\n",
      "0.9997449794443184 0.00022522651944008944 5.2854570094320736e-05 82393748.00000001 82391848\n",
      "\n",
      "\n",
      "total infected inflow:  174.0\n",
      "0.9997382434802039 0.00022295342277694861 6.186363087192431e-05 82393747.99999999 82391848\n",
      "\n",
      "\n",
      "total infected inflow:  173.0\n",
      "0.9997315081982928 0.00022077056777699959 7.078176778300227e-05 82393748.00000001 82391848\n",
      "\n",
      "\n",
      "total infected inflow:  172.0\n",
      "0.9997247233926868 0.0002187245506720751 7.961259049408224e-05 82393748.00000001 82391848\n",
      "\n",
      "\n",
      "total infected inflow:  171.0\n",
      "0.9997178890889983 0.0002168098723334628 8.836157252096526e-05 82393747.99999999 82391848\n",
      "\n",
      "\n",
      "total infected inflow:  171.0\n",
      "0.9997110053148303 0.00021502125160802367 9.703396741430377e-05 82393747.99999997 82391848\n",
      "\n",
      "\n",
      "total infected inflow:  169.0\n",
      "0.9997041602611618 0.00021326545521216115 0.00010563481747862472 82393747.99999999 82391848\n",
      "\n",
      "\n",
      "total infected inflow:  167.0\n",
      "0.9996972662652838 0.0002116288328818797 0.00011416543568711116 82393747.99999999 82391848\n",
      "\n",
      "\n",
      "total infected inflow:  165.0\n",
      "0.9996903237644954 0.00021010618035508308 0.00012263058900238634 82393748.00000001 82391848\n",
      "\n",
      "\n",
      "total infected inflow:  166.0\n",
      "0.9996832939148157 0.00020873178282051078 0.00013103483621658963 82393748.00000001 82391848\n",
      "\n",
      "\n",
      "total infected inflow:  165.0\n",
      "0.9996762147352043 0.00020746169111898283 0.0001393841075294101 82393747.99999999 82391848\n",
      "\n",
      "\n",
      "total infected inflow:  163.0\n",
      "0.9996691004255229 0.00020627753315575738 0.00014768257517416941 82393748.00000001 82391848\n",
      "\n",
      "\n",
      "total infected inflow:  161.0\n",
      "0.9996619368677874 0.00020518998956504746 0.00015593367650039967 82393748.00000001 82391848\n",
      "\n",
      "\n",
      "total infected inflow:  160.0\n",
      "0.9996547256694888 0.0002041935882810565 0.0001641412760830016 82393748.00000001 82391848\n",
      "\n",
      "\n",
      "total infected inflow:  159.0\n",
      "0.99964747246501 0.00020327904922843765 0.00017230901961424384 82393747.99999999 82391848\n",
      "\n",
      "\n",
      "\n"
     ]
    }
   ],
   "source": [
    "# run model\n",
    "print(SIR_sim.sum(axis=0).sum() == N_k.sum())\n",
    "infected_pop_norm = []\n",
    "susceptible_pop_norm = []\n",
    "recovered_pop_norm = []\n",
    "n_days = 20\n",
    "days = [last_week + datetime.timedelta(j) for j in range(n_days)]\n",
    "days = [d.to_datetime64() for d in days]\n",
    "for time_step in tqdm.tqdm_notebook(range(n_days)):\n",
    "    infected_mat = np.array([SIR_nsim[:,:,:,1],]*locs_len)#.transpose()\n",
    "    OD_infected = np.round(OD[:,:,np.newaxis, np.newaxis]*infected_mat)\n",
    "    inflow_infected = OD_infected.sum(axis=1)\n",
    "    inflow_infected = np.round(inflow_infected * public_trans_vec[time_step])\n",
    "    print('total infected inflow: ', inflow_infected.sum())\n",
    "    new_infect = beta_vec*SIR_sim[:,:,:, 0]*inflow_infected/(N_k + OD.sum(axis=0))[:,np.newaxis, np.newaxis]\n",
    "    new_recovered = gamma_vec*SIR_sim[:,:,:, 1]\n",
    "    new_infect = np.where(new_infect>SIR_sim[:,:,:, 0], SIR_sim[:,:,:, 0], new_infect)\n",
    "    SIR_sim[:,:,:, 0] = SIR_sim[:,:,:, 0] - new_infect\n",
    "    SIR_sim[:,:,:, 1] = SIR_sim[:,:,:, 1] + new_infect - new_recovered\n",
    "    SIR_sim[:,:,:, 2] = SIR_sim[:,:,:, 2] + new_recovered\n",
    "    SIR_sim = np.where(SIR_sim<0,0,SIR_sim)\n",
    "    # recompute the normalized SIR matrix\n",
    "    row_sums = SIR_sim.sum(axis=3).sum(axis=2).sum(axis=1)\n",
    "    SIR_nsim = SIR_sim / row_sums[:, np.newaxis, np.newaxis, np.newaxis]\n",
    "    S = SIR_sim[:,:,:,0].sum()/N_k.sum()\n",
    "    I = SIR_sim[:,:,:,1].sum()/N_k.sum()\n",
    "    R = SIR_sim[:,:,:,2].sum()/N_k.sum()\n",
    "    print(S, I, R, (S+I+R)*N_k.sum(), N_k.sum())\n",
    "    print('\\n')\n",
    "    infected_pop_norm.append(I)\n",
    "    susceptible_pop_norm.append(S)\n",
    "    recovered_pop_norm.append(R)"
   ]
  },
  {
   "cell_type": "code",
   "execution_count": 244,
   "metadata": {},
   "outputs": [
    {
     "data": {
      "text/plain": [
       "<matplotlib.legend.Legend at 0x125594490>"
      ]
     },
     "execution_count": 244,
     "metadata": {},
     "output_type": "execute_result"
    },
    {
     "data": {
      "image/png": "[encoded data removed]",
      "text/plain": [
       "<Figure size 432x288 with 1 Axes>"
      ]
     },
     "metadata": {
      "needs_background": "light"
     },
     "output_type": "display_data"
    }
   ],
   "source": [
    "plt.plot(susceptible_pop_norm, label='S')\n",
    "plt.plot(infected_pop_norm, label='I')\n",
    "plt.plot(recovered_pop_norm, label='R')\n",
    "plt.legend()"
   ]
  },
  {
   "cell_type": "code",
   "execution_count": 245,
   "metadata": {},
   "outputs": [
    {
     "data": {
      "text/html": [
       "<div>\n",
       "<style scoped>\n",
       "    .dataframe tbody tr th:only-of-type {\n",
       "        vertical-align: middle;\n",
       "    }\n",
       "\n",
       "    .dataframe tbody tr th {\n",
       "        vertical-align: top;\n",
       "    }\n",
       "\n",
       "    .dataframe thead th {\n",
       "        text-align: right;\n",
       "    }\n",
       "</style>\n",
       "<table border=\"1\" class=\"dataframe\">\n",
       "  <thead>\n",
       "    <tr style=\"text-align: right;\">\n",
       "      <th></th>\n",
       "      <th>AnzahlFall</th>\n",
       "      <th>AnzahlTodesfall</th>\n",
       "      <th>TotalAnzahl_BL_G_AG</th>\n",
       "      <th>TotalDeath_BL_G_AG</th>\n",
       "    </tr>\n",
       "    <tr>\n",
       "      <th>Meldedatum</th>\n",
       "      <th></th>\n",
       "      <th></th>\n",
       "      <th></th>\n",
       "      <th></th>\n",
       "    </tr>\n",
       "  </thead>\n",
       "  <tbody>\n",
       "    <tr>\n",
       "      <th>2020-03-13</th>\n",
       "      <td>1317</td>\n",
       "      <td>4</td>\n",
       "      <td>4610</td>\n",
       "      <td>19</td>\n",
       "    </tr>\n",
       "    <tr>\n",
       "      <th>2020-03-14</th>\n",
       "      <td>1179</td>\n",
       "      <td>2</td>\n",
       "      <td>5695</td>\n",
       "      <td>21</td>\n",
       "    </tr>\n",
       "    <tr>\n",
       "      <th>2020-03-15</th>\n",
       "      <td>837</td>\n",
       "      <td>2</td>\n",
       "      <td>6393</td>\n",
       "      <td>20</td>\n",
       "    </tr>\n",
       "    <tr>\n",
       "      <th>2020-03-16</th>\n",
       "      <td>1776</td>\n",
       "      <td>2</td>\n",
       "      <td>8380</td>\n",
       "      <td>25</td>\n",
       "    </tr>\n",
       "    <tr>\n",
       "      <th>2020-03-17</th>\n",
       "      <td>2519</td>\n",
       "      <td>5</td>\n",
       "      <td>10917</td>\n",
       "      <td>30</td>\n",
       "    </tr>\n",
       "    <tr>\n",
       "      <th>2020-03-18</th>\n",
       "      <td>2689</td>\n",
       "      <td>7</td>\n",
       "      <td>13513</td>\n",
       "      <td>37</td>\n",
       "    </tr>\n",
       "    <tr>\n",
       "      <th>2020-03-19</th>\n",
       "      <td>1983</td>\n",
       "      <td>6</td>\n",
       "      <td>13149</td>\n",
       "      <td>37</td>\n",
       "    </tr>\n",
       "    <tr>\n",
       "      <th>2020-03-20</th>\n",
       "      <td>964</td>\n",
       "      <td>4</td>\n",
       "      <td>12270</td>\n",
       "      <td>41</td>\n",
       "    </tr>\n",
       "  </tbody>\n",
       "</table>\n",
       "</div>"
      ],
      "text/plain": [
       "            AnzahlFall  AnzahlTodesfall  TotalAnzahl_BL_G_AG  \\\n",
       "Meldedatum                                                     \n",
       "2020-03-13        1317                4                 4610   \n",
       "2020-03-14        1179                2                 5695   \n",
       "2020-03-15         837                2                 6393   \n",
       "2020-03-16        1776                2                 8380   \n",
       "2020-03-17        2519                5                10917   \n",
       "2020-03-18        2689                7                13513   \n",
       "2020-03-19        1983                6                13149   \n",
       "2020-03-20         964                4                12270   \n",
       "\n",
       "            TotalDeath_BL_G_AG  \n",
       "Meldedatum                      \n",
       "2020-03-13                  19  \n",
       "2020-03-14                  21  \n",
       "2020-03-15                  20  \n",
       "2020-03-16                  25  \n",
       "2020-03-17                  30  \n",
       "2020-03-18                  37  \n",
       "2020-03-19                  37  \n",
       "2020-03-20                  41  "
      ]
     },
     "execution_count": 245,
     "metadata": {},
     "output_type": "execute_result"
    }
   ],
   "source": [
    "agg_df = BL_df.groupby(\"Meldedatum\").sum()\n",
    "last_week_df = agg_df[agg_df.index >= last_week]\n",
    "last_week_df"
   ]
  },
  {
   "cell_type": "code",
   "execution_count": 246,
   "metadata": {},
   "outputs": [
    {
     "data": {
      "text/plain": [
       "<matplotlib.legend.Legend at 0x124def160>"
      ]
     },
     "execution_count": 246,
     "metadata": {},
     "output_type": "execute_result"
    },
    {
     "data": {
      "image/png": "[encoded data removed]",
      "text/plain": [
       "<Figure size 432x288 with 1 Axes>"
      ]
     },
     "metadata": {
      "needs_background": "light"
     },
     "output_type": "display_data"
    }
   ],
   "source": [
    "plt.plot(last_week_df.index, \"TotalAnzahl_BL_G_AG\", data=last_week_df, label=\"real_I\")\n",
    "plt.plot(np.array(days)[:8], np.array(infected_pop_norm)[:8] * 70000000, label='I')\n",
    "plt.plot(np.array(days)[:8], np.array(recovered_pop_norm)[:8] * 70000000, label='R')\n",
    "plt.legend()"
   ]
  },
  {
   "cell_type": "code",
   "execution_count": null,
   "metadata": {},
   "outputs": [],
   "source": []
  }
 ],
 "metadata": {
  "kernelspec": {
   "display_name": "Python 3",
   "language": "python",
   "name": "python3"
  },
  "language_info": {
   "codemirror_mode": {
    "name": "ipython",
    "version": 3
   },
   "file_extension": ".py",
   "mimetype": "text/x-python",
   "name": "python",
   "nbconvert_exporter": "python",
   "pygments_lexer": "ipython3",
   "version": "3.8.1"
  }
 },
 "nbformat": 4,
 "nbformat_minor": 4
}
